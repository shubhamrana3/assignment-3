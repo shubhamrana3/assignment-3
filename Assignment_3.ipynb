{
  "cells": [
    {
      "cell_type": "markdown",
      "metadata": {
        "id": "view-in-github",
        "colab_type": "text"
      },
      "source": [
        "<a href=\"https://colab.research.google.com/github/shubhamrana3/assignment-3/blob/main/Assignment_3.ipynb\" target=\"_parent\"><img src=\"https://colab.research.google.com/assets/colab-badge.svg\" alt=\"Open In Colab\"/></a>"
      ]
    },
    {
      "cell_type": "markdown",
      "metadata": {
        "id": "-SHtfIsmrwWR"
      },
      "source": [
        "The data is available as two attached CSV files:\n",
        "\n",
        "    takehome_user_engagement.csv\n",
        "    takehome_users.csv\n"
      ]
    },
    {
      "cell_type": "markdown",
      "metadata": {
        "id": "TK7M31porwWV"
      },
      "source": [
        "# The data has the following two tables:\n",
        "\n",
        "\n",
        "**1.  User table **\n",
        "----\n",
        "- ( \"takehome_users\" ) with data on 12,000 users who signed up for the product in the last two years. \n",
        "\n",
        "This table includes:\n",
        "\n",
        "    ● name: the user's name\n",
        "\n",
        "    ● object_id: the user's id\n",
        "\n",
        "    ● email: email address\n",
        "\n",
        "    ● creation_source: how their account was created. "
      ]
    },
    {
      "cell_type": "markdown",
      "metadata": {
        "id": "nGWzncGBrwWe"
      },
      "source": [
        "This takes on one of 5 values:\n",
        "\n",
        "PERSONAL_PROJECTS: invited to join another user's\n",
        "personal workspace\n",
        "- GUEST_INVITE: invited to an organization as a guest\n",
        "(limited permissions)\n",
        "- ORG_INVITE: invited to an organization (as a full member)\n",
        "- SIGNUP: signed up via the website\n",
        "- SIGNUP_GOOGLE_AUTH: signed up using Google\n",
        "Authentication (using a Google email account for their login id)\n",
        "\n",
        "    a. creation_time: when they created their account\n",
        "\n",
        "    b. last_session_creation_time: unix timestamp of last login\n",
        "\n",
        "    c. opted_in_to_mailing_list: whether they have opted into receiving marketing emails\n",
        "\n",
        "    d. enabled_for_marketing_drip: whether they are on the regular marketing email drip\n",
        "\n",
        "    e. org_id: the organization (group of users) they belong to\n",
        "\n",
        "    f. invited_by_user_id: which user invited them to join (if applicable)."
      ]
    },
    {
      "cell_type": "code",
      "execution_count": null,
      "metadata": {
        "id": "DknpXH3arwWl",
        "outputId": "661e07a5-cc75-4e50-c52b-de88e3b8279c",
        "colab": {
          "base_uri": "https://localhost:8080/",
          "height": 357
        }
      },
      "outputs": [
        {
          "output_type": "execute_result",
          "data": {
            "text/plain": [
              "   object_id        creation_time               name  \\\n",
              "0          1  2014-04-22 03:53:30     Clausen August   \n",
              "1          2  2013-11-15 03:45:04      Poole Matthew   \n",
              "2          3  2013-03-19 23:14:52  Bottrill Mitchell   \n",
              "3          4  2013-05-21 08:09:28    Clausen Nicklas   \n",
              "4          5  2013-01-17 10:14:20          Raw Grace   \n",
              "\n",
              "                        email creation_source  last_session_creation_time  \\\n",
              "0    AugustCClausen@yahoo.com    GUEST_INVITE                1.398139e+09   \n",
              "1      MatthewPoole@gustr.com      ORG_INVITE                1.396238e+09   \n",
              "2  MitchellBottrill@gustr.com      ORG_INVITE                1.363735e+09   \n",
              "3   NicklasSClausen@yahoo.com    GUEST_INVITE                1.369210e+09   \n",
              "4          GraceRaw@yahoo.com    GUEST_INVITE                1.358850e+09   \n",
              "\n",
              "   opted_in_to_mailing_list  enabled_for_marketing_drip  org_id  \\\n",
              "0                         1                           0      11   \n",
              "1                         0                           0       1   \n",
              "2                         0                           0      94   \n",
              "3                         0                           0       1   \n",
              "4                         0                           0     193   \n",
              "\n",
              "   invited_by_user_id  \n",
              "0             10803.0  \n",
              "1               316.0  \n",
              "2              1525.0  \n",
              "3              5151.0  \n",
              "4              5240.0  "
            ],
            "text/html": [
              "\n",
              "  <div id=\"df-067cd61e-c9bf-422f-ab13-03404757e611\">\n",
              "    <div class=\"colab-df-container\">\n",
              "      <div>\n",
              "<style scoped>\n",
              "    .dataframe tbody tr th:only-of-type {\n",
              "        vertical-align: middle;\n",
              "    }\n",
              "\n",
              "    .dataframe tbody tr th {\n",
              "        vertical-align: top;\n",
              "    }\n",
              "\n",
              "    .dataframe thead th {\n",
              "        text-align: right;\n",
              "    }\n",
              "</style>\n",
              "<table border=\"1\" class=\"dataframe\">\n",
              "  <thead>\n",
              "    <tr style=\"text-align: right;\">\n",
              "      <th></th>\n",
              "      <th>object_id</th>\n",
              "      <th>creation_time</th>\n",
              "      <th>name</th>\n",
              "      <th>email</th>\n",
              "      <th>creation_source</th>\n",
              "      <th>last_session_creation_time</th>\n",
              "      <th>opted_in_to_mailing_list</th>\n",
              "      <th>enabled_for_marketing_drip</th>\n",
              "      <th>org_id</th>\n",
              "      <th>invited_by_user_id</th>\n",
              "    </tr>\n",
              "  </thead>\n",
              "  <tbody>\n",
              "    <tr>\n",
              "      <th>0</th>\n",
              "      <td>1</td>\n",
              "      <td>2014-04-22 03:53:30</td>\n",
              "      <td>Clausen August</td>\n",
              "      <td>AugustCClausen@yahoo.com</td>\n",
              "      <td>GUEST_INVITE</td>\n",
              "      <td>1.398139e+09</td>\n",
              "      <td>1</td>\n",
              "      <td>0</td>\n",
              "      <td>11</td>\n",
              "      <td>10803.0</td>\n",
              "    </tr>\n",
              "    <tr>\n",
              "      <th>1</th>\n",
              "      <td>2</td>\n",
              "      <td>2013-11-15 03:45:04</td>\n",
              "      <td>Poole Matthew</td>\n",
              "      <td>MatthewPoole@gustr.com</td>\n",
              "      <td>ORG_INVITE</td>\n",
              "      <td>1.396238e+09</td>\n",
              "      <td>0</td>\n",
              "      <td>0</td>\n",
              "      <td>1</td>\n",
              "      <td>316.0</td>\n",
              "    </tr>\n",
              "    <tr>\n",
              "      <th>2</th>\n",
              "      <td>3</td>\n",
              "      <td>2013-03-19 23:14:52</td>\n",
              "      <td>Bottrill Mitchell</td>\n",
              "      <td>MitchellBottrill@gustr.com</td>\n",
              "      <td>ORG_INVITE</td>\n",
              "      <td>1.363735e+09</td>\n",
              "      <td>0</td>\n",
              "      <td>0</td>\n",
              "      <td>94</td>\n",
              "      <td>1525.0</td>\n",
              "    </tr>\n",
              "    <tr>\n",
              "      <th>3</th>\n",
              "      <td>4</td>\n",
              "      <td>2013-05-21 08:09:28</td>\n",
              "      <td>Clausen Nicklas</td>\n",
              "      <td>NicklasSClausen@yahoo.com</td>\n",
              "      <td>GUEST_INVITE</td>\n",
              "      <td>1.369210e+09</td>\n",
              "      <td>0</td>\n",
              "      <td>0</td>\n",
              "      <td>1</td>\n",
              "      <td>5151.0</td>\n",
              "    </tr>\n",
              "    <tr>\n",
              "      <th>4</th>\n",
              "      <td>5</td>\n",
              "      <td>2013-01-17 10:14:20</td>\n",
              "      <td>Raw Grace</td>\n",
              "      <td>GraceRaw@yahoo.com</td>\n",
              "      <td>GUEST_INVITE</td>\n",
              "      <td>1.358850e+09</td>\n",
              "      <td>0</td>\n",
              "      <td>0</td>\n",
              "      <td>193</td>\n",
              "      <td>5240.0</td>\n",
              "    </tr>\n",
              "  </tbody>\n",
              "</table>\n",
              "</div>\n",
              "      <button class=\"colab-df-convert\" onclick=\"convertToInteractive('df-067cd61e-c9bf-422f-ab13-03404757e611')\"\n",
              "              title=\"Convert this dataframe to an interactive table.\"\n",
              "              style=\"display:none;\">\n",
              "        \n",
              "  <svg xmlns=\"http://www.w3.org/2000/svg\" height=\"24px\"viewBox=\"0 0 24 24\"\n",
              "       width=\"24px\">\n",
              "    <path d=\"M0 0h24v24H0V0z\" fill=\"none\"/>\n",
              "    <path d=\"M18.56 5.44l.94 2.06.94-2.06 2.06-.94-2.06-.94-.94-2.06-.94 2.06-2.06.94zm-11 1L8.5 8.5l.94-2.06 2.06-.94-2.06-.94L8.5 2.5l-.94 2.06-2.06.94zm10 10l.94 2.06.94-2.06 2.06-.94-2.06-.94-.94-2.06-.94 2.06-2.06.94z\"/><path d=\"M17.41 7.96l-1.37-1.37c-.4-.4-.92-.59-1.43-.59-.52 0-1.04.2-1.43.59L10.3 9.45l-7.72 7.72c-.78.78-.78 2.05 0 2.83L4 21.41c.39.39.9.59 1.41.59.51 0 1.02-.2 1.41-.59l7.78-7.78 2.81-2.81c.8-.78.8-2.07 0-2.86zM5.41 20L4 18.59l7.72-7.72 1.47 1.35L5.41 20z\"/>\n",
              "  </svg>\n",
              "      </button>\n",
              "      \n",
              "  <style>\n",
              "    .colab-df-container {\n",
              "      display:flex;\n",
              "      flex-wrap:wrap;\n",
              "      gap: 12px;\n",
              "    }\n",
              "\n",
              "    .colab-df-convert {\n",
              "      background-color: #E8F0FE;\n",
              "      border: none;\n",
              "      border-radius: 50%;\n",
              "      cursor: pointer;\n",
              "      display: none;\n",
              "      fill: #1967D2;\n",
              "      height: 32px;\n",
              "      padding: 0 0 0 0;\n",
              "      width: 32px;\n",
              "    }\n",
              "\n",
              "    .colab-df-convert:hover {\n",
              "      background-color: #E2EBFA;\n",
              "      box-shadow: 0px 1px 2px rgba(60, 64, 67, 0.3), 0px 1px 3px 1px rgba(60, 64, 67, 0.15);\n",
              "      fill: #174EA6;\n",
              "    }\n",
              "\n",
              "    [theme=dark] .colab-df-convert {\n",
              "      background-color: #3B4455;\n",
              "      fill: #D2E3FC;\n",
              "    }\n",
              "\n",
              "    [theme=dark] .colab-df-convert:hover {\n",
              "      background-color: #434B5C;\n",
              "      box-shadow: 0px 1px 3px 1px rgba(0, 0, 0, 0.15);\n",
              "      filter: drop-shadow(0px 1px 2px rgba(0, 0, 0, 0.3));\n",
              "      fill: #FFFFFF;\n",
              "    }\n",
              "  </style>\n",
              "\n",
              "      <script>\n",
              "        const buttonEl =\n",
              "          document.querySelector('#df-067cd61e-c9bf-422f-ab13-03404757e611 button.colab-df-convert');\n",
              "        buttonEl.style.display =\n",
              "          google.colab.kernel.accessAllowed ? 'block' : 'none';\n",
              "\n",
              "        async function convertToInteractive(key) {\n",
              "          const element = document.querySelector('#df-067cd61e-c9bf-422f-ab13-03404757e611');\n",
              "          const dataTable =\n",
              "            await google.colab.kernel.invokeFunction('convertToInteractive',\n",
              "                                                     [key], {});\n",
              "          if (!dataTable) return;\n",
              "\n",
              "          const docLinkHtml = 'Like what you see? Visit the ' +\n",
              "            '<a target=\"_blank\" href=https://colab.research.google.com/notebooks/data_table.ipynb>data table notebook</a>'\n",
              "            + ' to learn more about interactive tables.';\n",
              "          element.innerHTML = '';\n",
              "          dataTable['output_type'] = 'display_data';\n",
              "          await google.colab.output.renderOutput(dataTable, element);\n",
              "          const docLink = document.createElement('div');\n",
              "          docLink.innerHTML = docLinkHtml;\n",
              "          element.appendChild(docLink);\n",
              "        }\n",
              "      </script>\n",
              "    </div>\n",
              "  </div>\n",
              "  "
            ]
          },
          "metadata": {},
          "execution_count": 3
        }
      ],
      "source": [
        "takehome_users = pd.read_csv('takehome_users.csv',encoding='ISO-8859-1')\n",
        "takehome_users.head()"
      ]
    },
    {
      "cell_type": "code",
      "execution_count": null,
      "metadata": {
        "id": "2S6sCEuorwWq",
        "outputId": "cf56c16a-e54f-4272-ea19-c8598b246977",
        "colab": {
          "base_uri": "https://localhost:8080/"
        }
      },
      "outputs": [
        {
          "output_type": "stream",
          "name": "stdout",
          "text": [
            "<class 'pandas.core.frame.DataFrame'>\n",
            "RangeIndex: 12000 entries, 0 to 11999\n",
            "Data columns (total 10 columns):\n",
            " #   Column                      Non-Null Count  Dtype  \n",
            "---  ------                      --------------  -----  \n",
            " 0   object_id                   12000 non-null  int64  \n",
            " 1   creation_time               12000 non-null  object \n",
            " 2   name                        12000 non-null  object \n",
            " 3   email                       12000 non-null  object \n",
            " 4   creation_source             12000 non-null  object \n",
            " 5   last_session_creation_time  8823 non-null   float64\n",
            " 6   opted_in_to_mailing_list    12000 non-null  int64  \n",
            " 7   enabled_for_marketing_drip  12000 non-null  int64  \n",
            " 8   org_id                      12000 non-null  int64  \n",
            " 9   invited_by_user_id          6417 non-null   float64\n",
            "dtypes: float64(2), int64(4), object(4)\n",
            "memory usage: 937.6+ KB\n"
          ]
        }
      ],
      "source": [
        "takehome_users.info()"
      ]
    },
    {
      "cell_type": "markdown",
      "metadata": {
        "id": "172DQq-GrwWw"
      },
      "source": [
        "# **2. Usage summary table **\n",
        "- ( \"takehome_user_engagement\" ) that has a row for each day that a user logged into the product."
      ]
    },
    {
      "cell_type": "code",
      "execution_count": null,
      "metadata": {
        "id": "B_ZztI6hrwW1",
        "outputId": "549466ac-c28d-4118-f69a-945fb466d63a",
        "colab": {
          "base_uri": "https://localhost:8080/",
          "height": 206
        }
      },
      "outputs": [
        {
          "output_type": "execute_result",
          "data": {
            "text/plain": [
              "            time_stamp  user_id  visited\n",
              "0  2014-04-22 03:53:30        1        1\n",
              "1  2013-11-15 03:45:04        2        1\n",
              "2  2013-11-29 03:45:04        2        1\n",
              "3  2013-12-09 03:45:04        2        1\n",
              "4  2013-12-25 03:45:04        2        1"
            ],
            "text/html": [
              "\n",
              "  <div id=\"df-23bb254a-6b4b-48c2-b8c7-f7940269f963\">\n",
              "    <div class=\"colab-df-container\">\n",
              "      <div>\n",
              "<style scoped>\n",
              "    .dataframe tbody tr th:only-of-type {\n",
              "        vertical-align: middle;\n",
              "    }\n",
              "\n",
              "    .dataframe tbody tr th {\n",
              "        vertical-align: top;\n",
              "    }\n",
              "\n",
              "    .dataframe thead th {\n",
              "        text-align: right;\n",
              "    }\n",
              "</style>\n",
              "<table border=\"1\" class=\"dataframe\">\n",
              "  <thead>\n",
              "    <tr style=\"text-align: right;\">\n",
              "      <th></th>\n",
              "      <th>time_stamp</th>\n",
              "      <th>user_id</th>\n",
              "      <th>visited</th>\n",
              "    </tr>\n",
              "  </thead>\n",
              "  <tbody>\n",
              "    <tr>\n",
              "      <th>0</th>\n",
              "      <td>2014-04-22 03:53:30</td>\n",
              "      <td>1</td>\n",
              "      <td>1</td>\n",
              "    </tr>\n",
              "    <tr>\n",
              "      <th>1</th>\n",
              "      <td>2013-11-15 03:45:04</td>\n",
              "      <td>2</td>\n",
              "      <td>1</td>\n",
              "    </tr>\n",
              "    <tr>\n",
              "      <th>2</th>\n",
              "      <td>2013-11-29 03:45:04</td>\n",
              "      <td>2</td>\n",
              "      <td>1</td>\n",
              "    </tr>\n",
              "    <tr>\n",
              "      <th>3</th>\n",
              "      <td>2013-12-09 03:45:04</td>\n",
              "      <td>2</td>\n",
              "      <td>1</td>\n",
              "    </tr>\n",
              "    <tr>\n",
              "      <th>4</th>\n",
              "      <td>2013-12-25 03:45:04</td>\n",
              "      <td>2</td>\n",
              "      <td>1</td>\n",
              "    </tr>\n",
              "  </tbody>\n",
              "</table>\n",
              "</div>\n",
              "      <button class=\"colab-df-convert\" onclick=\"convertToInteractive('df-23bb254a-6b4b-48c2-b8c7-f7940269f963')\"\n",
              "              title=\"Convert this dataframe to an interactive table.\"\n",
              "              style=\"display:none;\">\n",
              "        \n",
              "  <svg xmlns=\"http://www.w3.org/2000/svg\" height=\"24px\"viewBox=\"0 0 24 24\"\n",
              "       width=\"24px\">\n",
              "    <path d=\"M0 0h24v24H0V0z\" fill=\"none\"/>\n",
              "    <path d=\"M18.56 5.44l.94 2.06.94-2.06 2.06-.94-2.06-.94-.94-2.06-.94 2.06-2.06.94zm-11 1L8.5 8.5l.94-2.06 2.06-.94-2.06-.94L8.5 2.5l-.94 2.06-2.06.94zm10 10l.94 2.06.94-2.06 2.06-.94-2.06-.94-.94-2.06-.94 2.06-2.06.94z\"/><path d=\"M17.41 7.96l-1.37-1.37c-.4-.4-.92-.59-1.43-.59-.52 0-1.04.2-1.43.59L10.3 9.45l-7.72 7.72c-.78.78-.78 2.05 0 2.83L4 21.41c.39.39.9.59 1.41.59.51 0 1.02-.2 1.41-.59l7.78-7.78 2.81-2.81c.8-.78.8-2.07 0-2.86zM5.41 20L4 18.59l7.72-7.72 1.47 1.35L5.41 20z\"/>\n",
              "  </svg>\n",
              "      </button>\n",
              "      \n",
              "  <style>\n",
              "    .colab-df-container {\n",
              "      display:flex;\n",
              "      flex-wrap:wrap;\n",
              "      gap: 12px;\n",
              "    }\n",
              "\n",
              "    .colab-df-convert {\n",
              "      background-color: #E8F0FE;\n",
              "      border: none;\n",
              "      border-radius: 50%;\n",
              "      cursor: pointer;\n",
              "      display: none;\n",
              "      fill: #1967D2;\n",
              "      height: 32px;\n",
              "      padding: 0 0 0 0;\n",
              "      width: 32px;\n",
              "    }\n",
              "\n",
              "    .colab-df-convert:hover {\n",
              "      background-color: #E2EBFA;\n",
              "      box-shadow: 0px 1px 2px rgba(60, 64, 67, 0.3), 0px 1px 3px 1px rgba(60, 64, 67, 0.15);\n",
              "      fill: #174EA6;\n",
              "    }\n",
              "\n",
              "    [theme=dark] .colab-df-convert {\n",
              "      background-color: #3B4455;\n",
              "      fill: #D2E3FC;\n",
              "    }\n",
              "\n",
              "    [theme=dark] .colab-df-convert:hover {\n",
              "      background-color: #434B5C;\n",
              "      box-shadow: 0px 1px 3px 1px rgba(0, 0, 0, 0.15);\n",
              "      filter: drop-shadow(0px 1px 2px rgba(0, 0, 0, 0.3));\n",
              "      fill: #FFFFFF;\n",
              "    }\n",
              "  </style>\n",
              "\n",
              "      <script>\n",
              "        const buttonEl =\n",
              "          document.querySelector('#df-23bb254a-6b4b-48c2-b8c7-f7940269f963 button.colab-df-convert');\n",
              "        buttonEl.style.display =\n",
              "          google.colab.kernel.accessAllowed ? 'block' : 'none';\n",
              "\n",
              "        async function convertToInteractive(key) {\n",
              "          const element = document.querySelector('#df-23bb254a-6b4b-48c2-b8c7-f7940269f963');\n",
              "          const dataTable =\n",
              "            await google.colab.kernel.invokeFunction('convertToInteractive',\n",
              "                                                     [key], {});\n",
              "          if (!dataTable) return;\n",
              "\n",
              "          const docLinkHtml = 'Like what you see? Visit the ' +\n",
              "            '<a target=\"_blank\" href=https://colab.research.google.com/notebooks/data_table.ipynb>data table notebook</a>'\n",
              "            + ' to learn more about interactive tables.';\n",
              "          element.innerHTML = '';\n",
              "          dataTable['output_type'] = 'display_data';\n",
              "          await google.colab.output.renderOutput(dataTable, element);\n",
              "          const docLink = document.createElement('div');\n",
              "          docLink.innerHTML = docLinkHtml;\n",
              "          element.appendChild(docLink);\n",
              "        }\n",
              "      </script>\n",
              "    </div>\n",
              "  </div>\n",
              "  "
            ]
          },
          "metadata": {},
          "execution_count": 5
        }
      ],
      "source": [
        "takehome_user_engagement=pd.read_csv('takehome_user_engagement.csv')\n",
        "takehome_user_engagement.head()"
      ]
    },
    {
      "cell_type": "code",
      "execution_count": null,
      "metadata": {
        "id": "oeEfME_wrwW8",
        "outputId": "c439a987-dffd-45e1-fadc-fc1c65ccf619",
        "colab": {
          "base_uri": "https://localhost:8080/"
        }
      },
      "outputs": [
        {
          "output_type": "stream",
          "name": "stdout",
          "text": [
            "<class 'pandas.core.frame.DataFrame'>\n",
            "RangeIndex: 207917 entries, 0 to 207916\n",
            "Data columns (total 3 columns):\n",
            " #   Column      Non-Null Count   Dtype \n",
            "---  ------      --------------   ----- \n",
            " 0   time_stamp  207917 non-null  object\n",
            " 1   user_id     207917 non-null  int64 \n",
            " 2   visited     207917 non-null  int64 \n",
            "dtypes: int64(2), object(1)\n",
            "memory usage: 4.8+ MB\n"
          ]
        }
      ],
      "source": [
        "takehome_user_engagement.info()"
      ]
    },
    {
      "cell_type": "markdown",
      "metadata": {
        "id": "XzV79ASurwXA"
      },
      "source": [
        "Project \n",
        "----\n",
        "Defining an \"adopted user\" as a user who has logged into the product on three separate\n",
        "days in at least one seven day period, identify which factors predict future user\n",
        "adoption.\n",
        "\n",
        "We suggest spending 1-2 hours on this, but you're welcome to spend more or less.\n",
        "\n",
        "1. Please send us a brief write-up of your findings (the more concise, the better no more than one page), along with any summary tables, graphs, code, or queries that can help us understand your approach. \n",
        "\n",
        "2. Please note any factors you considered or investigation you did, even if they did not pan out. Feel free to identify any further research or data you think would be valuable."
      ]
    },
    {
      "cell_type": "markdown",
      "metadata": {
        "id": "XMjWayczrwXD"
      },
      "source": [
        "**Thoughts:**\n",
        "\n",
        "**takehome_users: **\n",
        "\n",
        "*Need to make sure the date/time variables are coded as such. One of the column titles is inconsistent with the data description. Certainly not all of the data is going to be useful, certainly not the personal details of the users.*\n",
        "\n",
        "**takehome_user_engagement:** \n",
        "\n",
        "*The time stamp is going to need to be changed*\n",
        "\n",
        "    a. I'm already thinking that the data are going to need to be merged between the user_engagement dataset and the user dataset.\n",
        "    b. Since the question mentioned seven day units I will need to code weekly units."
      ]
    },
    {
      "cell_type": "markdown",
      "metadata": {
        "id": "T3A_jx9CrwXF"
      },
      "source": [
        "**Data Cleaning/Prep**"
      ]
    },
    {
      "cell_type": "code",
      "execution_count": null,
      "metadata": {
        "id": "xps1E_nyrwXG"
      },
      "outputs": [],
      "source": [
        "#Functions I commonly use to deal with date/time values\n",
        "def get_date_int(df, column):\n",
        "    '''\n",
        "    This handy function parses year,month,week,day.\n",
        "    '''\n",
        "    year = df[column].dt.year\n",
        "    month = df[column].dt.month\n",
        "    day = df[column].dt.day\n",
        "    return year, month, day\n",
        "\n",
        "def get_week(x): return x.isocalendar()\n",
        "\n",
        "def get_iso_date_int(df,column):\n",
        "    '''\n",
        "    With time coded as iso (year,week,day) this seperates those time periods.\n",
        "    '''\n",
        "    temp_df=pd.DataFrame(df[column].tolist(), index=df.index)\n",
        "    year,week,day=temp_df[0],temp_df[1],temp_df[2]\n",
        "    return year,week,day"
      ]
    },
    {
      "cell_type": "code",
      "execution_count": null,
      "metadata": {
        "id": "IjjxHnR1rwXI",
        "outputId": "dfccdae7-a009-45f7-fcfb-85e5940fcc5a",
        "colab": {
          "base_uri": "https://localhost:8080/",
          "height": 357
        }
      },
      "outputs": [
        {
          "output_type": "execute_result",
          "data": {
            "text/plain": [
              "        creation_time creation_source    last_session_creation_time  \\\n",
              "0 2014-04-22 03:53:30    GUEST_INVITE 1970-01-01 00:00:01.398138810   \n",
              "1 2013-11-15 03:45:04      ORG_INVITE 1970-01-01 00:00:01.396237504   \n",
              "2 2013-03-19 23:14:52      ORG_INVITE 1970-01-01 00:00:01.363734892   \n",
              "3 2013-05-21 08:09:28    GUEST_INVITE 1970-01-01 00:00:01.369210168   \n",
              "4 2013-01-17 10:14:20    GUEST_INVITE 1970-01-01 00:00:01.358849660   \n",
              "\n",
              "   opted_in_to_mailing_list  enabled_for_marketing_drip  org_id  \\\n",
              "0                         1                           0      11   \n",
              "1                         0                           0       1   \n",
              "2                         0                           0      94   \n",
              "3                         0                           0       1   \n",
              "4                         0                           0     193   \n",
              "\n",
              "   invited_by_user_id  user_id  \n",
              "0             10803.0        1  \n",
              "1               316.0        2  \n",
              "2              1525.0        3  \n",
              "3              5151.0        4  \n",
              "4              5240.0        5  "
            ],
            "text/html": [
              "\n",
              "  <div id=\"df-369b2b44-1b52-46a9-b394-c13e18399f50\">\n",
              "    <div class=\"colab-df-container\">\n",
              "      <div>\n",
              "<style scoped>\n",
              "    .dataframe tbody tr th:only-of-type {\n",
              "        vertical-align: middle;\n",
              "    }\n",
              "\n",
              "    .dataframe tbody tr th {\n",
              "        vertical-align: top;\n",
              "    }\n",
              "\n",
              "    .dataframe thead th {\n",
              "        text-align: right;\n",
              "    }\n",
              "</style>\n",
              "<table border=\"1\" class=\"dataframe\">\n",
              "  <thead>\n",
              "    <tr style=\"text-align: right;\">\n",
              "      <th></th>\n",
              "      <th>creation_time</th>\n",
              "      <th>creation_source</th>\n",
              "      <th>last_session_creation_time</th>\n",
              "      <th>opted_in_to_mailing_list</th>\n",
              "      <th>enabled_for_marketing_drip</th>\n",
              "      <th>org_id</th>\n",
              "      <th>invited_by_user_id</th>\n",
              "      <th>user_id</th>\n",
              "    </tr>\n",
              "  </thead>\n",
              "  <tbody>\n",
              "    <tr>\n",
              "      <th>0</th>\n",
              "      <td>2014-04-22 03:53:30</td>\n",
              "      <td>GUEST_INVITE</td>\n",
              "      <td>1970-01-01 00:00:01.398138810</td>\n",
              "      <td>1</td>\n",
              "      <td>0</td>\n",
              "      <td>11</td>\n",
              "      <td>10803.0</td>\n",
              "      <td>1</td>\n",
              "    </tr>\n",
              "    <tr>\n",
              "      <th>1</th>\n",
              "      <td>2013-11-15 03:45:04</td>\n",
              "      <td>ORG_INVITE</td>\n",
              "      <td>1970-01-01 00:00:01.396237504</td>\n",
              "      <td>0</td>\n",
              "      <td>0</td>\n",
              "      <td>1</td>\n",
              "      <td>316.0</td>\n",
              "      <td>2</td>\n",
              "    </tr>\n",
              "    <tr>\n",
              "      <th>2</th>\n",
              "      <td>2013-03-19 23:14:52</td>\n",
              "      <td>ORG_INVITE</td>\n",
              "      <td>1970-01-01 00:00:01.363734892</td>\n",
              "      <td>0</td>\n",
              "      <td>0</td>\n",
              "      <td>94</td>\n",
              "      <td>1525.0</td>\n",
              "      <td>3</td>\n",
              "    </tr>\n",
              "    <tr>\n",
              "      <th>3</th>\n",
              "      <td>2013-05-21 08:09:28</td>\n",
              "      <td>GUEST_INVITE</td>\n",
              "      <td>1970-01-01 00:00:01.369210168</td>\n",
              "      <td>0</td>\n",
              "      <td>0</td>\n",
              "      <td>1</td>\n",
              "      <td>5151.0</td>\n",
              "      <td>4</td>\n",
              "    </tr>\n",
              "    <tr>\n",
              "      <th>4</th>\n",
              "      <td>2013-01-17 10:14:20</td>\n",
              "      <td>GUEST_INVITE</td>\n",
              "      <td>1970-01-01 00:00:01.358849660</td>\n",
              "      <td>0</td>\n",
              "      <td>0</td>\n",
              "      <td>193</td>\n",
              "      <td>5240.0</td>\n",
              "      <td>5</td>\n",
              "    </tr>\n",
              "  </tbody>\n",
              "</table>\n",
              "</div>\n",
              "      <button class=\"colab-df-convert\" onclick=\"convertToInteractive('df-369b2b44-1b52-46a9-b394-c13e18399f50')\"\n",
              "              title=\"Convert this dataframe to an interactive table.\"\n",
              "              style=\"display:none;\">\n",
              "        \n",
              "  <svg xmlns=\"http://www.w3.org/2000/svg\" height=\"24px\"viewBox=\"0 0 24 24\"\n",
              "       width=\"24px\">\n",
              "    <path d=\"M0 0h24v24H0V0z\" fill=\"none\"/>\n",
              "    <path d=\"M18.56 5.44l.94 2.06.94-2.06 2.06-.94-2.06-.94-.94-2.06-.94 2.06-2.06.94zm-11 1L8.5 8.5l.94-2.06 2.06-.94-2.06-.94L8.5 2.5l-.94 2.06-2.06.94zm10 10l.94 2.06.94-2.06 2.06-.94-2.06-.94-.94-2.06-.94 2.06-2.06.94z\"/><path d=\"M17.41 7.96l-1.37-1.37c-.4-.4-.92-.59-1.43-.59-.52 0-1.04.2-1.43.59L10.3 9.45l-7.72 7.72c-.78.78-.78 2.05 0 2.83L4 21.41c.39.39.9.59 1.41.59.51 0 1.02-.2 1.41-.59l7.78-7.78 2.81-2.81c.8-.78.8-2.07 0-2.86zM5.41 20L4 18.59l7.72-7.72 1.47 1.35L5.41 20z\"/>\n",
              "  </svg>\n",
              "      </button>\n",
              "      \n",
              "  <style>\n",
              "    .colab-df-container {\n",
              "      display:flex;\n",
              "      flex-wrap:wrap;\n",
              "      gap: 12px;\n",
              "    }\n",
              "\n",
              "    .colab-df-convert {\n",
              "      background-color: #E8F0FE;\n",
              "      border: none;\n",
              "      border-radius: 50%;\n",
              "      cursor: pointer;\n",
              "      display: none;\n",
              "      fill: #1967D2;\n",
              "      height: 32px;\n",
              "      padding: 0 0 0 0;\n",
              "      width: 32px;\n",
              "    }\n",
              "\n",
              "    .colab-df-convert:hover {\n",
              "      background-color: #E2EBFA;\n",
              "      box-shadow: 0px 1px 2px rgba(60, 64, 67, 0.3), 0px 1px 3px 1px rgba(60, 64, 67, 0.15);\n",
              "      fill: #174EA6;\n",
              "    }\n",
              "\n",
              "    [theme=dark] .colab-df-convert {\n",
              "      background-color: #3B4455;\n",
              "      fill: #D2E3FC;\n",
              "    }\n",
              "\n",
              "    [theme=dark] .colab-df-convert:hover {\n",
              "      background-color: #434B5C;\n",
              "      box-shadow: 0px 1px 3px 1px rgba(0, 0, 0, 0.15);\n",
              "      filter: drop-shadow(0px 1px 2px rgba(0, 0, 0, 0.3));\n",
              "      fill: #FFFFFF;\n",
              "    }\n",
              "  </style>\n",
              "\n",
              "      <script>\n",
              "        const buttonEl =\n",
              "          document.querySelector('#df-369b2b44-1b52-46a9-b394-c13e18399f50 button.colab-df-convert');\n",
              "        buttonEl.style.display =\n",
              "          google.colab.kernel.accessAllowed ? 'block' : 'none';\n",
              "\n",
              "        async function convertToInteractive(key) {\n",
              "          const element = document.querySelector('#df-369b2b44-1b52-46a9-b394-c13e18399f50');\n",
              "          const dataTable =\n",
              "            await google.colab.kernel.invokeFunction('convertToInteractive',\n",
              "                                                     [key], {});\n",
              "          if (!dataTable) return;\n",
              "\n",
              "          const docLinkHtml = 'Like what you see? Visit the ' +\n",
              "            '<a target=\"_blank\" href=https://colab.research.google.com/notebooks/data_table.ipynb>data table notebook</a>'\n",
              "            + ' to learn more about interactive tables.';\n",
              "          element.innerHTML = '';\n",
              "          dataTable['output_type'] = 'display_data';\n",
              "          await google.colab.output.renderOutput(dataTable, element);\n",
              "          const docLink = document.createElement('div');\n",
              "          docLink.innerHTML = docLinkHtml;\n",
              "          element.appendChild(docLink);\n",
              "        }\n",
              "      </script>\n",
              "    </div>\n",
              "  </div>\n",
              "  "
            ]
          },
          "metadata": {},
          "execution_count": 8
        }
      ],
      "source": [
        "takehome_users = pd.read_csv('takehome_users.csv',encoding='ISO-8859-1')\n",
        "#code creation_time,last_session_time as date/time\n",
        "takehome_users.creation_time = pd.to_datetime(takehome_users['creation_time'])\n",
        "takehome_users.last_session_creation_time = pd.to_datetime(takehome_users['last_session_creation_time'])\n",
        "#change column heading\n",
        "takehome_users['user_id'] = takehome_users['object_id']\n",
        "#drop original column\n",
        "takehome_users.drop('object_id', axis=1, inplace=True)\n",
        "#drop private information\n",
        "takehome_users.drop(['name', 'email'], axis=1, inplace=True)\n",
        "\n",
        "takehome_users.head()"
      ]
    },
    {
      "cell_type": "code",
      "execution_count": null,
      "metadata": {
        "id": "T_y_1PawrwXL",
        "outputId": "f03ca4c0-1f59-4057-ec72-60e97ad445a3",
        "colab": {
          "base_uri": "https://localhost:8080/"
        }
      },
      "outputs": [
        {
          "output_type": "stream",
          "name": "stdout",
          "text": [
            "<class 'pandas.core.frame.DataFrame'>\n",
            "RangeIndex: 12000 entries, 0 to 11999\n",
            "Data columns (total 8 columns):\n",
            " #   Column                      Non-Null Count  Dtype         \n",
            "---  ------                      --------------  -----         \n",
            " 0   creation_time               12000 non-null  datetime64[ns]\n",
            " 1   creation_source             12000 non-null  object        \n",
            " 2   last_session_creation_time  8823 non-null   datetime64[ns]\n",
            " 3   opted_in_to_mailing_list    12000 non-null  int64         \n",
            " 4   enabled_for_marketing_drip  12000 non-null  int64         \n",
            " 5   org_id                      12000 non-null  int64         \n",
            " 6   invited_by_user_id          6417 non-null   float64       \n",
            " 7   user_id                     12000 non-null  int64         \n",
            "dtypes: datetime64[ns](2), float64(1), int64(4), object(1)\n",
            "memory usage: 750.1+ KB\n"
          ]
        }
      ],
      "source": [
        "takehome_users.info()"
      ]
    },
    {
      "cell_type": "code",
      "execution_count": null,
      "metadata": {
        "id": "7ii1GvqXrwXN"
      },
      "outputs": [],
      "source": [
        "#make user engagement time_stamp into date/time\n",
        "takehome_user_engagement['time_stamp'] = pd.to_datetime(takehome_user_engagement['time_stamp'])\n",
        "#Make a weekly unit for time stamp\n",
        "takehome_user_engagement['week_time_stamp']=takehome_user_engagement['time_stamp'].apply(get_week)"
      ]
    },
    {
      "cell_type": "code",
      "execution_count": null,
      "metadata": {
        "id": "S2xGMfBHrwXP",
        "outputId": "cece6913-c986-4e53-9095-3e68671ff2b7",
        "colab": {
          "base_uri": "https://localhost:8080/"
        }
      },
      "outputs": [
        {
          "output_type": "stream",
          "name": "stdout",
          "text": [
            "First user engagement timestamp: 2012-05-31 08:20:06\n",
            "Last user engagement timestamp: 2014-06-06 14:58:50\n"
          ]
        }
      ],
      "source": [
        "#This is useful to know so we know where the start and finish of the trial exists\n",
        "print('First user engagement timestamp:',min(takehome_user_engagement.time_stamp))\n",
        "print('Last user engagement timestamp:',max(takehome_user_engagement.time_stamp))"
      ]
    },
    {
      "cell_type": "code",
      "execution_count": null,
      "metadata": {
        "id": "M1e8pfdsrwXR"
      },
      "outputs": [],
      "source": [
        "#Create Year,Month,Week,and Day units. To be fair I would be doing this regardless of use,\n",
        "# since I know I will be working with time its useful to have options for working with the data\n",
        "year, month, day=get_date_int(takehome_user_engagement, 'time_stamp')\n",
        "takehome_user_engagement['year'],takehome_user_engagement['month'],takehome_user_engagement['day']=year,month,day\n",
        "takehome_user_engagement['week']=takehome_user_engagement['time_stamp'].dt.week\n",
        "#Make year and week, So if we are dealing with 52 week units then I want year to make it individual unit of time\n",
        "iso_year,iso_week,iso_day=get_iso_date_int(takehome_user_engagement,'week_time_stamp')\n",
        "takehome_user_engagement['year_week']=list(zip(iso_year,iso_week))"
      ]
    },
    {
      "cell_type": "markdown",
      "metadata": {
        "id": "9fhOTH8zrwXU"
      },
      "source": [
        "Defining an \"adopted user\" as a user who has logged into the product on three separate\n",
        "days in at least one seven day period, identify which factors predict future user\n",
        "adoption.\n",
        "\n",
        "    a. After playing with the data and thinking about the problem I decided the easiest time scale to use is the year/week units I created. I minimized the data to values I will need to solve the problem of 'adopted users'."
      ]
    },
    {
      "cell_type": "code",
      "execution_count": null,
      "metadata": {
        "id": "qLFi3TO8rwXW"
      },
      "outputs": [],
      "source": [
        "takehome_user_engagement=takehome_user_engagement.sort_values(['time_stamp','user_id'],ascending=True)\n",
        "takehome_user_engagement=takehome_user_engagement[['user_id','visited','day','year_week']]"
      ]
    },
    {
      "cell_type": "code",
      "execution_count": null,
      "metadata": {
        "id": "N6XHqc9brwXY",
        "outputId": "2b8f9eba-66bd-491c-a085-ad8e2723ee81",
        "colab": {
          "base_uri": "https://localhost:8080/"
        }
      },
      "outputs": [
        {
          "output_type": "stream",
          "name": "stdout",
          "text": [
            "[1, 2, 3, 4, 5, 6, 7, 10, 11, 13, 14, 17, 19, 20, 21, 22, 23, 24, 25, 27, 28, 29, 30, 31, 33, 36, 37, 41, 42, 43, 44, 45, 46, 47, 48, 49, 50, 51, 53, 54, 55, 56, 57, 58, 59, 60, 61, 63, 64, 65, 66, 67, 68, 69, 72, 73, 74, 75, 76, 77, 78, 80, 81, 82, 83, 84, 85, 86, 87, 88, 89, 90, 91, 92, 94, 95, 96, 97, 98, 99, 100, 101, 103, 105, 106, 107, 109, 110, 111, 112, 113, 114, 115, 116, 117, 119, 121, 123, 124, 125, 126, 127, 128, 132, 133, 135, 136, 138, 139, 140, 141, 142, 143, 144, 146, 147, 150, 151, 153, 154, 155, 156, 158, 159, 160, 161, 162, 164, 165, 167, 168, 171, 172, 173, 174, 175, 176, 178, 179, 180, 181, 182, 183, 184, 185, 187, 188, 189, 193, 195, 196, 197, 198, 200, 201, 202, 203, 204, 205, 206, 208, 209, 210, 211, 212, 213, 214, 215, 216, 217, 219, 220, 221, 222, 223, 225, 226, 227, 228, 230, 232, 234, 235, 236, 237, 238, 239, 240, 241, 242, 243, 244, 245, 246, 247, 249, 250, 251, 252, 253, 254, 255, 256, 258, 259, 260, 261, 262, 263, 265, 266, 267, 268, 271, 273, 275, 277, 278, 280, 283, 284, 285, 286, 289, 290, 291, 292, 293, 294, 295, 297, 298, 299, 300, 302, 303, 305, 308, 309, 310, 311, 312, 313, 315, 316, 317, 319, 320, 321, 322, 323, 325, 326, 329, 330, 331, 333, 335, 337, 338, 339, 340, 341, 342, 343, 345, 346, 347, 349, 350, 351, 352, 353, 354, 357, 360, 362, 363, 364, 365, 366, 367, 368, 370, 371, 374, 375, 376, 379, 381, 382, 383, 388, 389, 390, 391, 393, 394, 395, 397, 398, 399, 400, 401, 402, 403, 405, 406, 407, 408, 409, 411, 413, 416, 417, 418, 420, 423, 424, 425, 426, 427, 430, 431, 433, 434, 435, 436, 438, 439, 440, 442, 444, 445, 446, 448, 449, 450, 451, 452, 453, 455, 457, 460, 461, 462, 464, 465, 469, 471, 472, 473, 474, 477, 478, 479, 480, 481, 482, 483, 486, 487, 488, 490, 492, 493, 494, 495, 497, 498, 500, 501, 502, 504, 505, 506, 508, 509, 510, 511, 512, 513, 514, 515, 516, 517, 518, 519, 520, 521, 522, 524, 525, 526, 528, 529, 531, 533, 534, 535, 536, 537, 538, 539, 540, 542, 543, 546, 547, 549, 552, 553, 554, 555, 557, 560, 561, 562, 563, 564, 565, 566, 568, 570, 571, 572, 573, 574, 575, 576, 579, 580, 581, 582, 583, 584, 586, 588, 589, 591, 592, 593, 595, 596, 597, 600, 601, 603, 604, 605, 607, 608, 609, 612, 614, 615, 616, 617, 618, 619, 620, 621, 623, 626, 627, 628, 630, 632, 633, 634, 635, 637, 638, 639, 640, 641, 643, 644, 646, 647, 648, 649, 651, 652, 654, 655, 656, 657, 658, 660, 661, 663, 665, 666, 667, 668, 669, 671, 673, 674, 675, 676, 677, 678, 679, 680, 682, 683, 685, 689, 690, 691, 692, 693, 694, 699, 700, 701, 702, 703, 704, 706, 707, 709, 710, 712, 714, 715, 716, 717, 719, 720, 724, 725, 726, 727, 728, 729, 733, 735, 736, 737, 738, 739, 740, 743, 745, 746, 749, 750, 751, 752, 753, 754, 755, 757, 758, 760, 761, 763, 765, 767, 768, 769, 771, 772, 773, 774, 775, 776, 777, 780, 782, 783, 784, 785, 786, 787, 788, 789, 791, 792, 793, 794, 795, 799, 801, 802, 804, 805, 808, 809, 810, 811, 812, 813, 814, 815, 817, 819, 820, 821, 822, 823, 824, 825, 826, 827, 828, 829, 830, 832, 833, 834, 835, 836, 837, 838, 842, 843, 845, 846, 848, 849, 850, 851, 853, 856, 857, 858, 859, 860, 863, 865, 869, 872, 874, 875, 876, 878, 880, 881, 882, 884, 885, 886, 887, 888, 891, 892, 894, 895, 899, 900, 901, 903, 905, 906, 907, 908, 910, 911, 912, 913, 914, 915, 916, 917, 918, 919, 921, 922, 924, 927, 928, 929, 932, 934, 937, 939, 940, 941, 942, 943, 946, 947, 948, 953, 956, 957, 958, 959, 960, 962, 963, 967, 969, 972, 973, 975, 976, 977, 978, 980, 981, 982, 983, 984, 985, 986, 989, 991, 992, 994, 995, 996, 997, 999, 1001, 1004, 1005, 1007, 1009, 1010, 1013, 1014, 1016, 1017, 1018, 1020, 1023, 1025, 1026, 1027, 1028, 1030, 1031, 1033, 1034, 1035, 1036, 1037, 1038, 1039, 1040, 1041, 1043, 1045, 1047, 1048, 1049, 1052, 1053, 1054, 1055, 1056, 1057, 1058, 1060, 1061, 1063, 1064, 1066, 1068, 1069, 1070, 1072, 1074, 1076, 1077, 1078, 1079, 1080, 1082, 1083, 1084, 1085, 1086, 1087, 1088, 1089, 1090, 1091, 1092, 1093, 1094, 1095, 1096, 1099, 1100, 1101, 1103, 1104, 1105, 1106, 1107, 1108, 1109, 1110, 1112, 1113, 1114, 1115, 1117, 1119, 1121, 1123, 1124, 1125, 1126, 1128, 1129, 1131, 1132, 1133, 1134, 1135, 1136, 1137, 1139, 1140, 1141, 1143, 1144, 1145, 1147, 1148, 1149, 1150, 1151, 1152, 1153, 1154, 1155, 1156, 1157, 1159, 1160, 1161, 1162, 1163, 1166, 1167, 1168, 1169, 1170, 1171, 1173, 1176, 1177, 1178, 1180, 1181, 1183, 1184, 1186, 1187, 1188, 1191, 1193, 1194, 1195, 1196, 1197, 1199, 1200, 1202, 1203, 1205, 1207, 1210, 1211, 1212, 1213, 1214, 1217, 1218, 1221, 1222, 1223, 1225, 1226, 1227, 1229, 1230, 1232, 1233, 1234, 1235, 1236, 1237, 1238, 1239, 1240, 1242, 1243, 1244, 1245, 1247, 1250, 1251, 1252, 1253, 1254, 1256, 1257, 1260, 1266, 1267, 1268, 1271, 1273, 1274, 1278, 1279, 1280, 1281, 1282, 1283, 1285, 1286, 1287, 1288, 1289, 1290, 1291, 1293, 1294, 1296, 1297, 1298, 1299, 1301, 1302, 1303, 1305, 1306, 1307, 1308, 1309, 1310, 1311, 1312, 1313, 1314, 1316, 1317, 1318, 1319, 1320, 1321, 1322, 1324, 1325, 1326, 1327, 1328, 1331, 1332, 1333, 1335, 1338, 1339, 1343, 1344, 1345, 1346, 1347, 1349, 1350, 1352, 1353, 1354, 1355, 1356, 1357, 1358, 1359, 1360, 1361, 1363, 1365, 1366, 1367, 1368, 1369, 1371, 1372, 1373, 1378, 1379, 1380, 1381, 1382, 1385, 1386, 1387, 1388, 1389, 1390, 1391, 1392, 1394, 1396, 1399, 1400, 1402, 1403, 1404, 1405, 1406, 1407, 1408, 1409, 1410, 1411, 1412, 1414, 1416, 1417, 1418, 1419, 1420, 1421, 1422, 1423, 1424, 1425, 1426, 1428, 1430, 1433, 1434, 1437, 1439, 1440, 1441, 1442, 1443, 1444, 1445, 1446, 1447, 1448, 1449, 1452, 1453, 1454, 1455, 1457, 1458, 1461, 1462, 1464, 1465, 1466, 1467, 1468, 1470, 1471, 1472, 1476, 1478, 1479, 1480, 1481, 1482, 1483, 1484, 1485, 1486, 1487, 1488, 1489, 1490, 1491, 1493, 1494, 1495, 1496, 1497, 1500, 1501, 1502, 1503, 1504, 1505, 1506, 1507, 1508, 1509, 1513, 1514, 1515, 1518, 1519, 1520, 1521, 1522, 1524, 1525, 1526, 1527, 1528, 1529, 1530, 1533, 1534, 1536, 1537, 1538, 1539, 1541, 1544, 1545, 1546, 1547, 1548, 1551, 1553, 1554, 1555, 1557, 1558, 1559, 1561, 1562, 1563, 1564, 1565, 1566, 1567, 1568, 1569, 1570, 1571, 1572, 1573, 1574, 1576, 1577, 1579, 1580, 1581, 1584, 1585, 1588, 1590, 1591, 1592, 1593, 1594, 1595, 1596, 1597, 1598, 1599, 1600, 1601, 1602, 1604, 1606, 1607, 1608, 1609, 1610, 1611, 1613, 1614, 1616, 1617, 1618, 1619, 1621, 1622, 1623, 1624, 1627, 1628, 1629, 1630, 1632, 1633, 1634, 1635, 1636, 1637, 1638, 1639, 1641, 1643, 1644, 1645, 1646, 1648, 1649, 1650, 1654, 1655, 1656, 1658, 1659, 1660, 1662, 1663, 1664, 1665, 1666, 1669, 1670, 1671, 1672, 1673, 1675, 1676, 1677, 1679, 1680, 1681, 1683, 1684, 1685, 1686, 1687, 1688, 1689, 1690, 1691, 1692, 1693, 1694, 1695, 1697, 1698, 1699, 1700, 1701, 1702, 1705, 1706, 1707, 1708, 1709, 1710, 1711, 1714, 1715, 1716, 1717, 1718, 1719, 1720, 1721, 1722, 1725, 1726, 1727, 1728, 1729, 1730, 1731, 1734, 1735, 1737, 1738, 1739, 1740, 1741, 1742, 1743, 1746, 1747, 1748, 1751, 1753, 1754, 1757, 1758, 1759, 1760, 1763, 1764, 1765, 1768, 1769, 1770, 1771, 1773, 1774, 1777, 1779, 1781, 1782, 1783, 1784, 1785, 1786, 1787, 1788, 1789, 1791, 1792, 1793, 1794, 1795, 1796, 1797, 1799, 1803, 1804, 1805, 1806, 1807, 1808, 1810, 1811, 1812, 1813, 1814, 1816, 1817, 1818, 1819, 1820, 1821, 1822, 1823, 1825, 1826, 1829, 1830, 1831, 1833, 1834, 1835, 1836, 1839, 1840, 1842, 1843, 1844, 1845, 1846, 1847, 1848, 1849, 1850, 1851, 1853, 1854, 1855, 1856, 1857, 1858, 1860, 1861, 1862, 1863, 1864, 1865, 1867, 1869, 1870, 1871, 1872, 1873, 1874, 1875, 1877, 1878, 1879, 1880, 1881, 1883, 1885, 1887, 1889, 1891, 1892, 1893, 1896, 1897, 1898, 1899, 1900, 1901, 1904, 1905, 1906, 1907, 1909, 1910, 1912, 1913, 1916, 1917, 1918, 1921, 1923, 1924, 1925, 1926, 1928, 1929, 1930, 1931, 1932, 1933, 1934, 1938, 1940, 1941, 1942, 1943, 1944, 1945, 1946, 1947, 1949, 1951, 1954, 1960, 1961, 1962, 1963, 1964, 1965, 1966, 1967, 1968, 1969, 1970, 1972, 1973, 1974, 1975, 1976, 1978, 1979, 1980, 1981, 1982, 1984, 1985, 1986, 1988, 1990, 1991, 1992, 1993, 1995, 1997, 1998, 1999, 2000, 2002, 2004, 2006, 2007, 2009, 2011, 2013, 2014, 2015, 2016, 2017, 2018, 2019, 2020, 2021, 2023, 2024, 2025, 2026, 2027, 2028, 2029, 2030, 2031, 2032, 2033, 2034, 2035, 2036, 2037, 2038, 2039, 2042, 2043, 2045, 2046, 2047, 2048, 2049, 2051, 2052, 2055, 2056, 2057, 2058, 2063, 2065, 2066, 2068, 2069, 2072, 2073, 2074, 2075, 2076, 2077, 2078, 2079, 2080, 2084, 2088, 2091, 2094, 2095, 2097, 2098, 2099, 2100, 2101, 2103, 2104, 2106, 2107, 2108, 2109, 2111, 2112, 2113, 2115, 2118, 2119, 2120, 2122, 2123, 2124, 2126, 2127, 2128, 2129, 2131, 2132, 2134, 2135, 2136, 2137, 2138, 2139, 2140, 2142, 2143, 2145, 2146, 2147, 2149, 2150, 2156, 2157, 2158, 2159, 2160, 2161, 2162, 2163, 2164, 2166, 2167, 2169, 2170, 2171, 2172, 2175, 2176, 2177, 2178, 2181, 2182, 2183, 2184, 2186, 2187, 2188, 2189, 2190, 2191, 2193, 2194, 2196, 2197, 2198, 2199, 2201, 2202, 2205, 2206, 2207, 2208, 2209, 2211, 2212, 2213, 2214, 2217, 2218, 2219, 2220, 2221, 2222, 2223, 2224, 2226, 2228, 2229, 2231, 2232, 2233, 2234, 2235, 2236, 2238, 2239, 2241, 2242, 2243, 2246, 2247, 2248, 2251, 2252, 2253, 2254, 2255, 2257, 2258, 2259, 2261, 2262, 2263, 2266, 2267, 2269, 2270, 2271, 2272, 2274, 2276, 2278, 2280, 2282, 2283, 2284, 2285, 2286, 2287, 2288, 2289, 2290, 2291, 2294, 2295, 2297, 2298, 2299, 2300, 2301, 2302, 2303, 2304, 2305, 2306, 2307, 2310, 2311, 2312, 2313, 2316, 2317, 2318, 2319, 2320, 2321, 2322, 2323, 2324, 2327, 2328, 2331, 2332, 2333, 2334, 2337, 2339, 2340, 2341, 2344, 2345, 2347, 2348, 2350, 2351, 2352, 2354, 2355, 2356, 2357, 2358, 2359, 2360, 2361, 2366, 2367, 2369, 2370, 2371, 2372, 2373, 2375, 2377, 2378, 2380, 2381, 2382, 2383, 2385, 2387, 2388, 2390, 2391, 2393, 2394, 2396, 2398, 2399, 2400, 2401, 2402, 2403, 2404, 2406, 2407, 2408, 2409, 2410, 2412, 2413, 2414, 2415, 2416, 2417, 2418, 2419, 2420, 2421, 2422, 2423, 2424, 2425, 2426, 2427, 2428, 2430, 2431, 2432, 2433, 2434, 2435, 2436, 2437, 2438, 2440, 2441, 2442, 2443, 2444, 2445, 2446, 2447, 2448, 2450, 2453, 2454, 2455, 2456, 2457, 2458, 2461, 2462, 2463, 2464, 2466, 2468, 2469, 2471, 2472, 2473, 2474, 2475, 2476, 2477, 2478, 2479, 2480, 2481, 2482, 2484, 2488, 2489, 2490, 2491, 2492, 2493, 2494, 2495, 2496, 2497, 2498, 2499, 2500, 2502, 2503, 2506, 2508, 2509, 2510, 2513, 2514, 2515, 2516, 2517, 2518, 2519, 2521, 2524, 2527, 2530, 2531, 2532, 2533, 2534, 2535, 2536, 2537, 2538, 2539, 2541, 2542, 2543, 2544, 2546, 2547, 2548, 2549, 2551, 2552, 2553, 2554, 2555, 2557, 2559, 2561, 2562, 2563, 2566, 2567, 2568, 2569, 2570, 2571, 2575, 2577, 2578, 2579, 2582, 2583, 2586, 2587, 2588, 2589, 2590, 2592, 2596, 2597, 2598, 2599, 2600, 2601, 2602, 2603, 2604, 2605, 2607, 2608, 2609, 2610, 2611, 2612, 2614, 2615, 2616, 2618, 2619, 2620, 2621, 2622, 2623, 2624, 2625, 2626, 2627, 2628, 2629, 2630, 2632, 2633, 2634, 2636, 2638, 2639, 2641, 2644, 2645, 2646, 2647, 2648, 2650, 2651, 2652, 2654, 2656, 2657, 2658, 2659, 2660, 2661, 2663, 2664, 2665, 2667, 2668, 2669, 2670, 2671, 2672, 2673, 2674, 2676, 2677, 2681, 2682, 2684, 2687, 2691, 2692, 2693, 2694, 2695, 2699, 2700, 2701, 2703, 2705, 2706, 2707, 2710, 2711, 2712, 2713, 2714, 2718, 2719, 2720, 2721, 2722, 2723, 2724, 2725, 2727, 2728, 2729, 2730, 2731, 2734, 2735, 2738, 2739, 2740, 2741, 2742, 2743, 2744, 2745, 2746, 2747, 2748, 2750, 2752, 2753, 2754, 2755, 2756, 2759, 2760, 2762, 2763, 2764, 2765, 2766, 2767, 2768, 2771, 2772, 2774, 2775, 2776, 2777, 2778, 2779, 2781, 2782, 2783, 2785, 2786, 2787, 2788, 2789, 2790, 2791, 2792, 2793, 2794, 2795, 2796, 2797, 2798, 2799, 2800, 2802, 2804, 2805, 2807, 2809, 2810, 2812, 2814, 2815, 2816, 2817, 2818, 2821, 2822, 2824, 2825, 2826, 2827, 2828, 2831, 2832, 2834, 2835, 2836, 2837, 2841, 2843, 2844, 2845, 2846, 2847, 2849, 2851, 2852, 2857, 2858, 2859, 2860, 2861, 2862, 2863, 2865, 2866, 2867, 2868, 2870, 2871, 2872, 2873, 2874, 2875, 2877, 2878, 2879, 2880, 2881, 2882, 2883, 2884, 2885, 2886, 2887, 2889, 2890, 2891, 2894, 2895, 2896, 2897, 2900, 2901, 2905, 2906, 2907, 2908, 2909, 2910, 2911, 2912, 2914, 2915, 2916, 2917, 2918, 2920, 2921, 2923, 2924, 2925, 2926, 2927, 2929, 2931, 2932, 2933, 2934, 2935, 2936, 2937, 2939, 2940, 2941, 2942, 2943, 2944, 2945, 2946, 2947, 2948, 2949, 2950, 2951, 2952, 2954, 2955, 2958, 2959, 2961, 2962, 2963, 2964, 2965, 2966, 2967, 2968, 2969, 2970, 2972, 2973, 2974, 2975, 2976, 2977, 2978, 2979, 2980, 2981, 2984, 2985, 2986, 2987, 2988, 2989, 2990, 2991, 2992, 2993, 2994, 2995, 2997, 2998, 2999, 3001, 3002, 3004, 3005, 3006, 3007, 3008, 3009, 3012, 3013, 3014, 3015, 3016, 3017, 3018, 3019, 3020, 3021, 3023, 3024, 3025, 3026, 3027, 3028, 3029, 3030, 3032, 3033, 3034, 3035, 3036, 3037, 3038, 3039, 3041, 3044, 3045, 3046, 3047, 3052, 3053, 3054, 3055, 3057, 3059, 3060, 3061, 3063, 3064, 3065, 3066, 3067, 3069, 3070, 3071, 3072, 3073, 3074, 3075, 3076, 3077, 3078, 3079, 3080, 3081, 3082, 3083, 3084, 3087, 3088, 3091, 3092, 3093, 3095, 3096, 3097, 3098, 3100, 3102, 3105, 3106, 3107, 3108, 3109, 3110, 3111, 3112, 3113, 3116, 3117, 3118, 3119, 3120, 3121, 3122, 3123, 3124, 3125, 3126, 3129, 3130, 3131, 3133, 3134, 3136, 3137, 3138, 3139, 3140, 3141, 3142, 3145, 3146, 3147, 3150, 3153, 3154, 3155, 3158, 3159, 3160, 3162, 3163, 3164, 3166, 3167, 3168, 3171, 3172, 3175, 3176, 3177, 3178, 3179, 3180, 3183, 3184, 3185, 3186, 3187, 3188, 3190, 3191, 3192, 3193, 3194, 3195, 3197, 3198, 3199, 3201, 3202, 3203, 3204, 3205, 3206, 3207, 3208, 3209, 3210, 3211, 3212, 3213, 3214, 3216, 3217, 3218, 3220, 3222, 3226, 3227, 3228, 3229, 3231, 3232, 3233, 3234, 3235, 3236, 3238, 3239, 3240, 3242, 3243, 3244, 3245, 3248, 3249, 3250, 3251, 3252, 3253, 3254, 3255, 3256, 3257, 3258, 3260, 3261, 3262, 3263, 3264, 3265, 3267, 3268, 3269, 3270, 3272, 3273, 3274, 3275, 3277, 3278, 3280, 3283, 3284, 3287, 3288, 3291, 3292, 3293, 3294, 3295, 3301, 3302, 3303, 3306, 3307, 3309, 3310, 3311, 3313, 3314, 3315, 3317, 3318, 3319, 3320, 3322, 3323, 3324, 3325, 3327, 3328, 3331, 3332, 3335, 3337, 3338, 3339, 3340, 3341, 3342, 3344, 3345, 3346, 3347, 3350, 3352, 3353, 3355, 3356, 3359, 3360, 3362, 3363, 3365, 3367, 3368, 3369, 3370, 3371, 3373, 3374, 3375, 3377, 3378, 3379, 3380, 3381, 3383, 3384, 3385, 3387, 3389, 3390, 3391, 3392, 3393, 3396, 3397, 3399, 3401, 3402, 3403, 3404, 3405, 3406, 3407, 3408, 3409, 3410, 3411, 3413, 3416, 3417, 3418, 3420, 3422, 3425, 3426, 3427, 3428, 3430, 3431, 3432, 3434, 3436, 3437, 3438, 3440, 3441, 3442, 3443, 3444, 3445, 3446, 3447, 3451, 3452, 3453, 3454, 3455, 3458, 3459, 3460, 3462, 3463, 3464, 3465, 3466, 3467, 3468, 3470, 3471, 3472, 3474, 3475, 3477, 3478, 3480, 3481, 3482, 3483, 3484, 3486, 3488, 3489, 3490, 3491, 3492, 3493, 3494, 3496, 3497, 3499, 3501, 3502, 3503, 3505, 3506, 3508, 3509, 3510, 3511, 3512, 3514, 3515, 3517, 3518, 3519, 3520, 3521, 3522, 3525, 3526, 3528, 3529, 3530, 3531, 3532, 3533, 3536, 3539, 3540, 3541, 3542, 3543, 3544, 3546, 3547, 3548, 3549, 3550, 3551, 3553, 3554, 3555, 3556, 3557, 3558, 3559, 3560, 3561, 3562, 3563, 3564, 3566, 3567, 3568, 3569, 3570, 3571, 3572, 3573, 3574, 3576, 3577, 3578, 3579, 3580, 3582, 3583, 3584, 3585, 3586, 3587, 3588, 3592, 3593, 3594, 3595, 3596, 3597, 3598, 3600, 3601, 3602, 3604, 3606, 3607, 3608, 3609, 3612, 3613, 3615, 3617, 3618, 3619, 3622, 3623, 3624, 3625, 3626, 3628, 3629, 3630, 3631, 3632, 3633, 3634, 3635, 3636, 3637, 3638, 3639, 3641, 3642, 3644, 3646, 3647, 3648, 3650, 3651, 3652, 3653, 3656, 3657, 3658, 3659, 3660, 3661, 3662, 3663, 3664, 3667, 3668, 3669, 3670, 3671, 3672, 3673, 3674, 3675, 3676, 3679, 3681, 3683, 3684, 3686, 3687, 3688, 3689, 3690, 3691, 3692, 3693, 3695, 3696, 3697, 3700, 3701, 3703, 3704, 3705, 3706, 3707, 3708, 3709, 3710, 3711, 3712, 3714, 3715, 3716, 3717, 3718, 3719, 3721, 3722, 3723, 3725, 3726, 3728, 3729, 3730, 3731, 3732, 3733, 3734, 3735, 3736, 3737, 3738, 3739, 3740, 3741, 3742, 3744, 3746, 3747, 3748, 3749, 3750, 3751, 3752, 3753, 3754, 3757, 3758, 3759, 3760, 3762, 3763, 3764, 3765, 3766, 3767, 3768, 3770, 3771, 3772, 3773, 3774, 3775, 3776, 3777, 3778, 3779, 3780, 3781, 3782, 3783, 3784, 3785, 3786, 3787, 3788, 3789, 3790, 3794, 3795, 3796, 3797, 3799, 3800, 3801, 3802, 3803, 3804, 3806, 3807, 3809, 3810, 3812, 3815, 3818, 3819, 3820, 3821, 3822, 3823, 3824, 3826, 3828, 3829, 3830, 3831, 3832, 3833, 3834, 3835, 3836, 3837, 3838, 3839, 3840, 3841, 3843, 3845, 3846, 3848, 3849, 3852, 3854, 3855, 3856, 3857, 3858, 3859, 3860, 3861, 3862, 3863, 3864, 3865, 3866, 3867, 3868, 3869, 3871, 3872, 3873, 3874, 3875, 3876, 3879, 3881, 3882, 3883, 3884, 3885, 3886, 3887, 3888, 3890, 3893, 3895, 3896, 3897, 3899, 3901, 3902, 3903, 3904, 3905, 3906, 3908, 3909, 3911, 3915, 3917, 3918, 3919, 3920, 3921, 3922, 3923, 3925, 3926, 3928, 3929, 3930, 3932, 3933, 3934, 3935, 3938, 3940, 3941, 3943, 3944, 3945, 3946, 3947, 3949, 3950, 3951, 3953, 3954, 3956, 3957, 3958, 3960, 3961, 3962, 3964, 3966, 3967, 3968, 3970, 3972, 3975, 3976, 3977, 3978, 3979, 3981, 3982, 3983, 3984, 3985, 3986, 3989, 3990, 3992, 3993, 3998, 3999, 4001, 4002, 4003, 4004, 4006, 4007, 4009, 4010, 4011, 4012, 4014, 4015, 4016, 4017, 4018, 4019, 4020, 4021, 4022, 4023, 4024, 4028, 4029, 4031, 4032, 4033, 4034, 4035, 4037, 4039, 4040, 4041, 4042, 4043, 4044, 4045, 4046, 4049, 4050, 4051, 4052, 4053, 4056, 4059, 4060, 4061, 4065, 4066, 4067, 4070, 4072, 4073, 4074, 4075, 4076, 4078, 4079, 4080, 4081, 4082, 4083, 4086, 4087, 4088, 4090, 4093, 4095, 4096, 4097, 4099, 4103, 4104, 4105, 4106, 4109, 4110, 4111, 4112, 4113, 4114, 4115, 4118, 4119, 4121, 4122, 4123, 4125, 4126, 4129, 4130, 4131, 4134, 4136, 4137, 4138, 4140, 4141, 4142, 4143, 4144, 4145, 4146, 4147, 4148, 4149, 4150, 4152, 4153, 4154, 4155, 4156, 4157, 4158, 4159, 4160, 4162, 4163, 4164, 4167, 4169, 4170, 4171, 4172, 4173, 4175, 4177, 4178, 4179, 4180, 4181, 4182, 4183, 4184, 4185, 4186, 4187, 4189, 4190, 4191, 4192, 4193, 4195, 4196, 4197, 4198, 4200, 4201, 4203, 4204, 4205, 4206, 4208, 4209, 4212, 4213, 4214, 4215, 4216, 4217, 4218, 4219, 4220, 4221, 4222, 4223, 4226, 4228, 4230, 4231, 4234, 4235, 4236, 4237, 4239, 4240, 4241, 4242, 4243, 4244, 4245, 4246, 4247, 4248, 4251, 4254, 4255, 4256, 4257, 4258, 4259, 4261, 4262, 4263, 4264, 4265, 4266, 4267, 4268, 4269, 4271, 4273, 4274, 4275, 4276, 4277, 4278, 4281, 4282, 4283, 4284, 4285, 4286, 4288, 4289, 4291, 4292, 4293, 4294, 4295, 4296, 4298, 4300, 4301, 4303, 4304, 4306, 4307, 4308, 4309, 4312, 4313, 4316, 4317, 4322, 4323, 4324, 4326, 4327, 4329, 4330, 4334, 4335, 4336, 4337, 4338, 4341, 4342, 4343, 4344, 4345, 4346, 4347, 4349, 4350, 4351, 4353, 4354, 4356, 4357, 4358, 4360, 4361, 4362, 4364, 4365, 4366, 4367, 4368, 4369, 4370, 4371, 4373, 4377, 4380, 4382, 4383, 4384, 4385, 4388, 4389, 4391, 4392, 4393, 4394, 4396, 4397, 4398, 4399, 4401, 4402, 4403, 4404, 4405, 4407, 4408, 4410, 4411, 4412, 4413, 4414, 4417, 4420, 4421, 4422, 4423, 4424, 4425, 4426, 4427, 4428, 4429, 4431, 4432, 4433, 4434, 4436, 4437, 4439, 4440, 4441, 4442, 4443, 4444, 4445, 4446, 4447, 4448, 4450, 4451, 4452, 4453, 4455, 4456, 4457, 4459, 4464, 4465, 4466, 4467, 4469, 4470, 4471, 4472, 4473, 4474, 4476, 4477, 4478, 4479, 4480, 4481, 4483, 4484, 4485, 4486, 4487, 4489, 4491, 4493, 4494, 4497, 4500, 4501, 4502, 4503, 4505, 4507, 4508, 4510, 4511, 4512, 4513, 4514, 4515, 4516, 4518, 4519, 4521, 4523, 4524, 4525, 4526, 4529, 4531, 4532, 4533, 4534, 4535, 4536, 4537, 4539, 4541, 4542, 4543, 4544, 4546, 4549, 4550, 4551, 4552, 4553, 4554, 4556, 4558, 4559, 4560, 4561, 4562, 4564, 4565, 4566, 4567, 4569, 4570, 4571, 4573, 4576, 4578, 4579, 4580, 4582, 4583, 4584, 4585, 4588, 4589, 4592, 4593, 4594, 4595, 4596, 4598, 4599, 4600, 4602, 4603, 4604, 4608, 4609, 4611, 4612, 4613, 4614, 4615, 4616, 4618, 4619, 4620, 4622, 4623, 4624, 4625, 4627, 4630, 4634, 4636, 4637, 4638, 4639, 4640, 4641, 4643, 4644, 4646, 4649, 4650, 4651, 4653, 4654, 4656, 4658, 4659, 4660, 4662, 4664, 4665, 4667, 4668, 4669, 4670, 4671, 4672, 4674, 4675, 4676, 4677, 4678, 4680, 4681, 4682, 4685, 4686, 4689, 4693, 4694, 4695, 4696, 4697, 4698, 4699, 4700, 4701, 4703, 4704, 4705, 4706, 4708, 4709, 4710, 4711, 4712, 4713, 4715, 4716, 4717, 4718, 4719, 4720, 4721, 4722, 4724, 4725, 4726, 4727, 4728, 4729, 4730, 4731, 4732, 4733, 4734, 4735, 4736, 4737, 4738, 4739, 4740, 4741, 4742, 4743, 4745, 4747, 4748, 4750, 4751, 4753, 4754, 4755, 4756, 4757, 4759, 4760, 4761, 4764, 4765, 4767, 4768, 4769, 4770, 4773, 4774, 4775, 4776, 4777, 4778, 4779, 4780, 4783, 4784, 4785, 4786, 4787, 4788, 4789, 4791, 4793, 4795, 4796, 4798, 4799, 4800, 4801, 4803, 4804, 4805, 4809, 4810, 4811, 4812, 4814, 4815, 4816, 4817, 4819, 4820, 4821, 4822, 4823, 4824, 4825, 4826, 4830, 4832, 4834, 4835, 4836, 4837, 4839, 4841, 4842, 4844, 4845, 4847, 4850, 4852, 4853, 4854, 4855, 4856, 4857, 4858, 4859, 4860, 4861, 4862, 4863, 4864, 4867, 4868, 4869, 4870, 4872, 4873, 4874, 4876, 4880, 4882, 4883, 4884, 4885, 4886, 4888, 4889, 4891, 4892, 4894, 4895, 4897, 4899, 4900, 4902, 4904, 4906, 4908, 4911, 4913, 4914, 4915, 4916, 4917, 4919, 4920, 4921, 4923, 4924, 4925, 4927, 4930, 4931, 4933, 4934, 4935, 4937, 4941, 4942, 4943, 4944, 4945, 4946, 4947, 4948, 4950, 4951, 4954, 4955, 4956, 4957, 4959, 4961, 4964, 4965, 4966, 4967, 4968, 4969, 4970, 4972, 4973, 4974, 4975, 4976, 4979, 4980, 4981, 4982, 4984, 4988, 4989, 4991, 4992, 4996, 4997, 4998, 4999, 5000, 5002, 5003, 5004, 5005, 5006, 5007, 5009, 5010, 5011, 5013, 5015, 5016, 5017, 5018, 5019, 5020, 5021, 5022, 5023, 5024, 5025, 5026, 5027, 5028, 5029, 5030, 5032, 5033, 5034, 5035, 5036, 5038, 5039, 5040, 5041, 5044, 5045, 5046, 5047, 5048, 5049, 5053, 5054, 5055, 5056, 5057, 5058, 5059, 5060, 5061, 5062, 5063, 5064, 5065, 5066, 5067, 5068, 5069, 5071, 5072, 5073, 5075, 5076, 5077, 5079, 5081, 5082, 5084, 5085, 5087, 5088, 5092, 5093, 5095, 5097, 5099, 5100, 5101, 5102, 5103, 5104, 5105, 5106, 5107, 5108, 5111, 5112, 5113, 5114, 5115, 5116, 5118, 5119, 5121, 5122, 5123, 5125, 5126, 5127, 5131, 5132, 5133, 5134, 5135, 5136, 5137, 5138, 5140, 5143, 5144, 5145, 5147, 5148, 5150, 5151, 5152, 5153, 5155, 5156, 5157, 5158, 5160, 5162, 5164, 5167, 5168, 5169, 5170, 5173, 5174, 5175, 5177, 5178, 5179, 5180, 5182, 5184, 5185, 5186, 5189, 5190, 5191, 5192, 5193, 5194, 5197, 5198, 5200, 5201, 5202, 5203, 5207, 5208, 5210, 5211, 5212, 5213, 5215, 5216, 5218, 5219, 5223, 5224, 5225, 5226, 5228, 5231, 5234, 5236, 5237, 5238, 5239, 5240, 5242, 5243, 5244, 5245, 5246, 5247, 5249, 5250, 5251, 5253, 5254, 5255, 5257, 5258, 5259, 5260, 5262, 5263, 5264, 5265, 5267, 5268, 5269, 5275, 5276, 5277, 5278, 5281, 5282, 5283, 5284, 5285, 5286, 5287, 5288, 5289, 5290, 5291, 5293, 5294, 5295, 5297, 5298, 5300, 5301, 5302, 5303, 5304, 5306, 5307, 5309, 5310, 5311, 5314, 5315, 5318, 5319, 5320, 5322, 5323, 5325, 5326, 5327, 5329, 5331, 5332, 5333, 5335, 5337, 5338, 5340, 5341, 5345, 5346, 5347, 5348, 5349, 5350, 5351, 5352, 5354, 5355, 5356, 5357, 5360, 5361, 5362, 5364, 5365, 5366, 5369, 5370, 5372, 5373, 5374, 5377, 5378, 5379, 5380, 5381, 5382, 5383, 5384, 5385, 5386, 5387, 5389, 5390, 5394, 5395, 5396, 5397, 5398, 5399, 5400, 5401, 5402, 5403, 5404, 5405, 5406, 5407, 5409, 5410, 5412, 5413, 5414, 5415, 5419, 5423, 5425, 5426, 5427, 5428, 5429, 5430, 5432, 5433, 5435, 5437, 5438, 5439, 5440, 5441, 5442, 5443, 5445, 5446, 5447, 5449, 5450, 5451, 5452, 5453, 5454, 5455, 5456, 5457, 5459, 5460, 5461, 5462, 5463, 5464, 5465, 5466, 5467, 5468, 5469, 5470, 5471, 5472, 5473, 5474, 5475, 5476, 5477, 5478, 5479, 5480, 5482, 5483, 5484, 5485, 5486, 5487, 5488, 5490, 5491, 5493, 5494, 5496, 5497, 5498, 5500, 5501, 5502, 5503, 5504, 5505, 5506, 5507, 5508, 5510, 5511, 5513, 5514, 5515, 5516, 5517, 5519, 5522, 5526, 5527, 5528, 5529, 5531, 5532, 5533, 5534, 5535, 5536, 5537, 5538, 5539, 5540, 5541, 5543, 5544, 5545, 5546, 5547, 5548, 5550, 5551, 5552, 5554, 5556, 5557, 5558, 5559, 5560, 5561, 5563, 5564, 5566, 5569, 5570, 5571, 5572, 5573, 5574, 5575, 5576, 5577, 5578, 5579, 5580, 5581, 5584, 5585, 5586, 5587, 5588, 5589, 5590, 5591, 5592, 5593, 5594, 5595, 5596, 5600, 5602, 5605, 5606, 5607, 5608, 5609, 5611, 5612, 5613, 5614, 5615, 5616, 5617, 5619, 5620, 5621, 5623, 5624, 5627, 5628, 5629, 5631, 5632, 5633, 5634, 5635, 5636, 5637, 5638, 5639, 5640, 5641, 5644, 5645, 5646, 5647, 5649, 5650, 5652, 5653, 5654, 5655, 5657, 5658, 5659, 5660, 5663, 5664, 5665, 5666, 5668, 5669, 5671, 5672, 5673, 5674, 5675, 5676, 5677, 5678, 5679, 5680, 5681, 5682, 5683, 5684, 5685, 5686, 5687, 5689, 5690, 5691, 5692, 5694, 5695, 5696, 5697, 5699, 5700, 5701, 5702, 5703, 5704, 5705, 5707, 5709, 5710, 5712, 5714, 5717, 5718, 5721, 5722, 5723, 5724, 5725, 5726, 5727, 5728, 5729, 5730, 5732, 5734, 5735, 5736, 5739, 5741, 5742, 5743, 5745, 5748, 5752, 5753, 5754, 5755, 5756, 5757, 5760, 5761, 5762, 5764, 5766, 5767, 5768, 5769, 5772, 5773, 5774, 5775, 5776, 5777, 5778, 5780, 5781, 5782, 5783, 5784, 5786, 5787, 5788, 5789, 5790, 5792, 5793, 5794, 5795, 5796, 5797, 5798, 5799, 5801, 5802, 5804, 5806, 5807, 5809, 5810, 5811, 5812, 5814, 5815, 5816, 5817, 5818, 5819, 5820, 5821, 5822, 5824, 5827, 5828, 5830, 5831, 5832, 5833, 5835, 5836, 5838, 5840, 5841, 5843, 5845, 5846, 5847, 5849, 5850, 5851, 5852, 5853, 5854, 5855, 5857, 5858, 5860, 5861, 5862, 5863, 5864, 5865, 5866, 5867, 5869, 5871, 5872, 5875, 5877, 5878, 5879, 5880, 5881, 5882, 5883, 5888, 5890, 5891, 5892, 5893, 5894, 5895, 5896, 5899, 5900, 5902, 5903, 5904, 5905, 5907, 5910, 5912, 5913, 5914, 5915, 5918, 5919, 5921, 5922, 5923, 5924, 5926, 5927, 5928, 5929, 5930, 5932, 5935, 5936, 5937, 5938, 5939, 5940, 5944, 5948, 5949, 5950, 5952, 5954, 5955, 5956, 5958, 5959, 5960, 5963, 5964, 5965, 5968, 5969, 5970, 5972, 5973, 5974, 5976, 5977, 5980, 5981, 5985, 5987, 5988, 5989, 5990, 5992, 5993, 5994, 5995, 5996, 5997, 5999, 6001, 6004, 6007, 6008, 6009, 6010, 6011, 6012, 6014, 6015, 6016, 6017, 6018, 6019, 6020, 6021, 6022, 6025, 6026, 6028, 6029, 6032, 6033, 6034, 6035, 6036, 6038, 6039, 6041, 6043, 6044, 6045, 6046, 6047, 6048, 6049, 6050, 6052, 6053, 6055, 6056, 6058, 6059, 6060, 6061, 6062, 6064, 6065, 6066, 6067, 6068, 6069, 6070, 6071, 6072, 6073, 6075, 6076, 6078, 6079, 6081, 6084, 6085, 6087, 6089, 6090, 6091, 6092, 6093, 6094, 6095, 6096, 6097, 6098, 6100, 6101, 6102, 6103, 6105, 6106, 6108, 6109, 6110, 6111, 6113, 6114, 6118, 6119, 6120, 6121, 6122, 6123, 6125, 6126, 6127, 6128, 6129, 6130, 6132, 6134, 6135, 6136, 6137, 6138, 6139, 6142, 6143, 6144, 6147, 6148, 6150, 6151, 6152, 6153, 6154, 6156, 6157, 6158, 6159, 6161, 6163, 6165, 6167, 6168, 6170, 6171, 6172, 6173, 6174, 6175, 6177, 6178, 6180, 6183, 6184, 6186, 6187, 6189, 6190, 6191, 6192, 6193, 6194, 6196, 6197, 6198, 6199, 6200, 6202, 6203, 6204, 6205, 6206, 6207, 6208, 6209, 6210, 6212, 6215, 6216, 6217, 6218, 6219, 6220, 6222, 6224, 6226, 6227, 6228, 6230, 6231, 6232, 6233, 6234, 6235, 6236, 6237, 6238, 6239, 6241, 6242, 6243, 6244, 6246, 6247, 6248, 6249, 6250, 6251, 6252, 6253, 6254, 6255, 6256, 6257, 6258, 6259, 6260, 6262, 6263, 6266, 6267, 6268, 6270, 6271, 6273, 6276, 6278, 6279, 6281, 6282, 6283, 6284, 6285, 6286, 6287, 6288, 6289, 6292, 6293, 6294, 6296, 6298, 6299, 6300, 6301, 6302, 6303, 6305, 6306, 6307, 6310, 6312, 6313, 6314, 6315, 6317, 6318, 6319, 6320, 6321, 6322, 6323, 6325, 6326, 6328, 6331, 6336, 6337, 6338, 6339, 6340, 6341, 6342, 6343, 6344, 6345, 6346, 6347, 6348, 6349, 6350, 6351, 6352, 6353, 6354, 6356, 6357, 6358, 6359, 6360, 6361, 6363, 6364, 6367, 6368, 6369, 6370, 6371, 6375, 6377, 6379, 6381, 6382, 6383, 6385, 6386, 6387, 6388, 6389, 6390, 6391, 6392, 6393, 6395, 6398, 6399, 6401, 6403, 6404, 6405, 6407, 6408, 6409, 6411, 6412, 6413, 6414, 6416, 6417, 6419, 6420, 6421, 6424, 6425, 6426, 6427, 6428, 6430, 6432, 6433, 6434, 6435, 6438, 6439, 6441, 6443, 6445, 6446, 6448, 6449, 6450, 6451, 6452, 6453, 6454, 6455, 6457, 6458, 6459, 6460, 6462, 6463, 6464, 6465, 6466, 6468, 6469, 6470, 6472, 6473, 6474, 6475, 6476, 6477, 6478, 6479, 6481, 6482, 6483, 6485, 6486, 6487, 6488, 6490, 6491, 6494, 6496, 6497, 6499, 6501, 6502, 6503, 6504, 6505, 6506, 6507, 6508, 6509, 6513, 6514, 6517, 6518, 6519, 6520, 6521, 6523, 6524, 6526, 6527, 6528, 6530, 6531, 6532, 6534, 6535, 6538, 6539, 6542, 6545, 6546, 6548, 6549, 6550, 6551, 6555, 6557, 6558, 6559, 6560, 6562, 6563, 6564, 6565, 6567, 6569, 6570, 6571, 6572, 6574, 6576, 6577, 6582, 6583, 6585, 6587, 6588, 6590, 6591, 6592, 6594, 6595, 6596, 6597, 6598, 6600, 6601, 6602, 6603, 6606, 6607, 6609, 6610, 6611, 6612, 6616, 6617, 6618, 6619, 6620, 6621, 6623, 6624, 6625, 6626, 6627, 6628, 6629, 6630, 6632, 6633, 6634, 6636, 6637, 6638, 6640, 6641, 6643, 6645, 6647, 6648, 6649, 6650, 6651, 6652, 6653, 6654, 6655, 6657, 6658, 6659, 6662, 6664, 6666, 6668, 6671, 6672, 6674, 6675, 6677, 6678, 6679, 6680, 6681, 6682, 6683, 6684, 6685, 6687, 6688, 6690, 6692, 6693, 6694, 6695, 6702, 6703, 6705, 6706, 6707, 6708, 6709, 6710, 6711, 6713, 6714, 6715, 6717, 6718, 6719, 6721, 6722, 6723, 6724, 6725, 6726, 6727, 6728, 6729, 6730, 6731, 6732, 6733, 6734, 6735, 6737, 6738, 6739, 6740, 6741, 6742, 6743, 6745, 6746, 6747, 6748, 6749, 6750, 6751, 6753, 6754, 6755, 6757, 6758, 6759, 6760, 6762, 6763, 6764, 6765, 6768, 6769, 6770, 6771, 6773, 6778, 6779, 6781, 6782, 6784, 6785, 6786, 6788, 6789, 6793, 6794, 6795, 6796, 6797, 6799, 6801, 6802, 6804, 6805, 6806, 6808, 6809, 6810, 6812, 6814, 6816, 6817, 6818, 6821, 6822, 6825, 6827, 6828, 6831, 6832, 6833, 6835, 6837, 6838, 6840, 6841, 6842, 6843, 6845, 6846, 6847, 6848, 6849, 6850, 6851, 6852, 6853, 6856, 6857, 6858, 6859, 6860, 6861, 6862, 6863, 6865, 6866, 6867, 6868, 6869, 6870, 6872, 6874, 6875, 6878, 6879, 6880, 6882, 6884, 6885, 6886, 6888, 6890, 6892, 6893, 6894, 6895, 6898, 6899, 6900, 6901, 6902, 6903, 6904, 6906, 6907, 6908, 6909, 6910, 6911, 6913, 6914, 6916, 6917, 6918, 6919, 6921, 6922, 6924, 6926, 6927, 6928, 6929, 6931, 6932, 6933, 6935, 6936, 6938, 6939, 6940, 6941, 6942, 6945, 6947, 6948, 6949, 6950, 6951, 6953, 6955, 6956, 6957, 6958, 6960, 6961, 6962, 6963, 6965, 6966, 6967, 6968, 6969, 6970, 6971, 6972, 6973, 6974, 6975, 6978, 6979, 6980, 6981, 6982, 6984, 6985, 6988, 6989, 6990, 6991, 6992, 6993, 6994, 6995, 6996, 6997, 6998, 6999, 7000, 7001, 7002, 7003, 7004, 7005, 7010, 7011, 7013, 7014, 7015, 7016, 7017, 7018, 7019, 7020, 7021, 7022, 7023, 7024, 7027, 7028, 7029, 7031, 7032, 7033, 7034, 7036, 7038, 7043, 7045, 7046, 7047, 7048, 7051, 7052, 7056, 7057, 7058, 7059, 7060, 7061, 7062, 7067, 7068, 7069, 7070, 7071, 7073, 7074, 7075, 7076, 7077, 7079, 7080, 7081, 7082, 7083, 7084, 7085, 7086, 7088, 7089, 7091, 7092, 7094, 7095, 7096, 7097, 7098, 7099, 7101, 7103, 7104, 7105, 7106, 7107, 7109, 7110, 7111, 7112, 7113, 7114, 7115, 7116, 7117, 7119, 7120, 7121, 7122, 7124, 7125, 7126, 7127, 7129, 7130, 7131, 7132, 7133, 7134, 7135, 7137, 7138, 7139, 7140, 7142, 7143, 7145, 7147, 7148, 7149, 7150, 7151, 7152, 7153, 7154, 7155, 7156, 7157, 7158, 7161, 7162, 7164, 7165, 7166, 7167, 7168, 7169, 7170, 7171, 7172, 7173, 7174, 7175, 7176, 7177, 7178, 7179, 7180, 7181, 7182, 7183, 7184, 7185, 7186, 7187, 7189, 7190, 7191, 7192, 7194, 7196, 7197, 7198, 7199, 7200, 7204, 7205, 7206, 7207, 7208, 7209, 7210, 7212, 7213, 7215, 7219, 7221, 7222, 7223, 7225, 7228, 7230, 7231, 7233, 7234, 7235, 7236, 7237, 7238, 7239, 7240, 7241, 7242, 7244, 7246, 7248, 7249, 7251, 7252, 7253, 7254, 7255, 7256, 7257, 7259, 7260, 7261, 7262, 7263, 7264, 7266, 7268, 7272, 7273, 7274, 7276, 7277, 7278, 7279, 7281, 7282, 7283, 7284, 7285, 7286, 7287, 7289, 7290, 7291, 7293, 7294, 7295, 7296, 7298, 7299, 7300, 7301, 7302, 7304, 7305, 7308, 7309, 7310, 7311, 7313, 7314, 7315, 7316, 7318, 7319, 7320, 7323, 7324, 7325, 7326, 7327, 7328, 7329, 7331, 7333, 7335, 7337, 7338, 7341, 7342, 7344, 7345, 7346, 7347, 7348, 7349, 7351, 7352, 7353, 7355, 7356, 7359, 7361, 7362, 7363, 7364, 7365, 7366, 7368, 7369, 7370, 7371, 7373, 7375, 7376, 7377, 7378, 7380, 7381, 7382, 7383, 7384, 7385, 7386, 7387, 7388, 7391, 7392, 7393, 7395, 7398, 7399, 7400, 7401, 7402, 7403, 7404, 7405, 7406, 7408, 7409, 7410, 7411, 7412, 7413, 7414, 7415, 7417, 7418, 7421, 7422, 7423, 7424, 7426, 7427, 7428, 7429, 7431, 7432, 7433, 7434, 7435, 7436, 7437, 7438, 7439, 7441, 7443, 7444, 7446, 7447, 7449, 7450, 7452, 7453, 7458, 7460, 7461, 7462, 7463, 7465, 7466, 7468, 7469, 7471, 7473, 7475, 7476, 7478, 7479, 7480, 7481, 7482, 7483, 7484, 7486, 7487, 7488, 7491, 7492, 7493, 7494, 7495, 7496, 7498, 7499, 7500, 7502, 7503, 7504, 7507, 7509, 7511, 7514, 7518, 7520, 7521, 7522, 7523, 7524, 7525, 7526, 7527, 7528, 7529, 7530, 7531, 7534, 7536, 7538, 7539, 7540, 7542, 7543, 7544, 7546, 7547, 7549, 7551, 7552, 7553, 7554, 7555, 7556, 7557, 7561, 7562, 7564, 7568, 7570, 7571, 7572, 7573, 7574, 7575, 7576, 7577, 7578, 7579, 7580, 7581, 7582, 7583, 7584, 7585, 7587, 7590, 7591, 7594, 7595, 7597, 7598, 7600, 7604, 7605, 7607, 7608, 7609, 7611, 7612, 7613, 7614, 7615, 7616, 7618, 7619, 7622, 7623, 7624, 7625, 7626, 7627, 7628, 7630, 7631, 7632, 7636, 7641, 7643, 7644, 7646, 7647, 7648, 7650, 7651, 7652, 7654, 7655, 7657, 7660, 7661, 7662, 7665, 7667, 7668, 7669, 7670, 7675, 7676, 7677, 7678, 7680, 7681, 7682, 7683, 7687, 7688, 7689, 7690, 7691, 7695, 7696, 7697, 7698, 7700, 7703, 7705, 7706, 7707, 7708, 7709, 7710, 7713, 7714, 7715, 7716, 7717, 7718, 7720, 7721, 7722, 7723, 7724, 7725, 7726, 7728, 7729, 7731, 7733, 7735, 7736, 7737, 7738, 7740, 7741, 7743, 7744, 7746, 7747, 7749, 7750, 7753, 7754, 7755, 7756, 7757, 7760, 7761, 7762, 7763, 7764, 7766, 7769, 7770, 7772, 7774, 7776, 7778, 7779, 7780, 7782, 7784, 7785, 7786, 7787, 7788, 7789, 7791, 7792, 7793, 7795, 7796, 7797, 7798, 7799, 7801, 7802, 7803, 7804, 7805, 7806, 7808, 7809, 7810, 7811, 7812, 7813, 7814, 7815, 7817, 7818, 7820, 7822, 7823, 7824, 7825, 7827, 7828, 7830, 7831, 7832, 7834, 7835, 7838, 7839, 7840, 7842, 7843, 7844, 7845, 7846, 7848, 7850, 7853, 7855, 7857, 7858, 7859, 7860, 7861, 7862, 7863, 7866, 7867, 7868, 7869, 7870, 7873, 7875, 7876, 7877, 7878, 7879, 7881, 7882, 7883, 7884, 7886, 7889, 7890, 7891, 7892, 7894, 7895, 7896, 7897, 7898, 7899, 7903, 7904, 7905, 7906, 7909, 7910, 7912, 7913, 7916, 7917, 7918, 7920, 7921, 7922, 7924, 7926, 7927, 7929, 7930, 7932, 7933, 7934, 7935, 7938, 7939, 7940, 7941, 7943, 7945, 7947, 7948, 7949, 7950, 7951, 7952, 7953, 7954, 7955, 7957, 7958, 7959, 7960, 7963, 7964, 7965, 7966, 7968, 7970, 7971, 7972, 7974, 7975, 7977, 7978, 7979, 7980, 7981, 7984, 7985, 7986, 7989, 7990, 7991, 7992, 7994, 7995, 7996, 7998, 7999, 8000, 8002, 8003, 8005, 8007, 8009, 8010, 8013, 8014, 8015, 8019, 8020, 8021, 8022, 8023, 8024, 8025, 8026, 8028, 8029, 8030, 8031, 8032, 8033, 8034, 8036, 8037, 8039, 8040, 8041, 8042, 8043, 8046, 8047, 8048, 8051, 8052, 8053, 8054, 8055, 8056, 8057, 8058, 8059, 8060, 8061, 8063, 8066, 8068, 8069, 8070, 8071, 8072, 8073, 8074, 8075, 8076, 8077, 8078, 8079, 8080, 8082, 8083, 8084, 8085, 8086, 8091, 8092, 8093, 8095, 8096, 8097, 8098, 8099, 8100, 8101, 8102, 8103, 8104, 8105, 8106, 8108, 8109, 8110, 8111, 8112, 8113, 8114, 8117, 8120, 8122, 8123, 8124, 8125, 8126, 8127, 8128, 8129, 8130, 8131, 8132, 8133, 8134, 8136, 8137, 8138, 8139, 8140, 8141, 8143, 8144, 8145, 8146, 8147, 8149, 8150, 8152, 8153, 8155, 8156, 8157, 8159, 8161, 8163, 8164, 8165, 8166, 8168, 8169, 8171, 8172, 8173, 8174, 8175, 8177, 8178, 8179, 8180, 8181, 8182, 8183, 8184, 8185, 8186, 8187, 8188, 8189, 8191, 8192, 8194, 8195, 8196, 8198, 8199, 8200, 8201, 8202, 8203, 8205, 8206, 8207, 8208, 8209, 8211, 8214, 8215, 8216, 8217, 8218, 8219, 8220, 8221, 8222, 8223, 8224, 8225, 8226, 8229, 8232, 8233, 8234, 8235, 8236, 8237, 8238, 8239, 8240, 8241, 8242, 8243, 8245, 8246, 8247, 8248, 8249, 8250, 8251, 8252, 8254, 8255, 8257, 8258, 8259, 8262, 8263, 8264, 8265, 8266, 8267, 8269, 8270, 8271, 8273, 8274, 8275, 8276, 8277, 8278, 8279, 8280, 8282, 8283, 8284, 8285, 8286, 8287, 8288, 8289, 8290, 8293, 8294, 8295, 8296, 8297, 8299, 8300, 8301, 8302, 8303, 8306, 8307, 8310, 8311, 8312, 8313, 8314, 8315, 8316, 8319, 8320, 8321, 8322, 8323, 8324, 8326, 8327, 8328, 8331, 8332, 8333, 8334, 8335, 8336, 8337, 8339, 8340, 8341, 8342, 8343, 8344, 8346, 8348, 8349, 8350, 8351, 8352, 8353, 8355, 8356, 8357, 8358, 8359, 8360, 8361, 8362, 8363, 8364, 8366, 8367, 8370, 8371, 8372, 8373, 8374, 8377, 8378, 8381, 8382, 8383, 8385, 8386, 8388, 8389, 8391, 8393, 8394, 8396, 8398, 8399, 8400, 8401, 8402, 8403, 8404, 8405, 8406, 8407, 8408, 8409, 8410, 8412, 8413, 8414, 8415, 8416, 8418, 8419, 8421, 8423, 8425, 8426, 8427, 8429, 8430, 8431, 8433, 8435, 8436, 8437, 8439, 8440, 8441, 8442, 8443, 8445, 8447, 8448, 8449, 8452, 8453, 8454, 8455, 8457, 8460, 8461, 8462, 8463, 8464, 8465, 8466, 8467, 8468, 8469, 8470, 8471, 8472, 8475, 8477, 8478, 8479, 8480, 8483, 8484, 8485, 8486, 8488, 8489, 8490, 8491, 8493, 8495, 8496, 8497, 8498, 8499, 8501, 8502, 8505, 8506, 8507, 8508, 8510, 8511, 8512, 8514, 8517, 8518, 8519, 8521, 8522, 8523, 8524, 8525, 8526, 8530, 8532, 8533, 8534, 8535, 8536, 8537, 8538, 8539, 8540, 8541, 8544, 8545, 8547, 8548, 8550, 8551, 8553, 8554, 8555, 8556, 8559, 8560, 8561, 8562, 8563, 8564, 8565, 8566, 8567, 8569, 8571, 8573, 8574, 8576, 8577, 8578, 8579, 8581, 8582, 8584, 8585, 8586, 8587, 8588, 8589, 8590, 8591, 8593, 8594, 8595, 8596, 8597, 8598, 8600, 8601, 8602, 8603, 8604, 8605, 8606, 8607, 8608, 8611, 8612, 8613, 8615, 8618, 8619, 8620, 8622, 8623, 8625, 8626, 8627, 8628, 8629, 8630, 8631, 8633, 8635, 8637, 8639, 8640, 8641, 8642, 8643, 8644, 8645, 8647, 8648, 8649, 8650, 8651, 8652, 8653, 8654, 8655, 8657, 8658, 8660, 8663, 8664, 8666, 8667, 8668, 8669, 8670, 8672, 8673, 8674, 8675, 8676, 8677, 8678, 8679, 8680, 8681, 8683, 8684, 8685, 8686, 8687, 8688, 8689, 8690, 8691, 8692, 8693, 8695, 8696, 8697, 8698, 8699, 8701, 8702, 8704, 8705, 8706, 8707, 8708, 8710, 8712, 8714, 8715, 8716, 8717, 8718, 8719, 8720, 8721, 8724, 8725, 8726, 8727, 8728, 8729, 8730, 8731, 8732, 8733, 8734, 8737, 8740, 8741, 8742, 8745, 8747, 8748, 8749, 8750, 8751, 8752, 8753, 8754, 8757, 8758, 8759, 8760, 8762, 8763, 8764, 8767, 8768, 8769, 8770, 8771, 8772, 8773, 8774, 8775, 8776, 8778, 8779, 8780, 8781, 8783, 8784, 8785, 8786, 8789, 8790, 8791, 8792, 8794, 8795, 8796, 8798, 8799, 8800, 8801, 8802, 8803, 8804, 8805, 8806, 8807, 8809, 8810, 8811, 8816, 8818, 8821, 8822, 8825, 8826, 8827, 8829, 8830, 8832, 8833, 8834, 8835, 8836, 8837, 8839, 8840, 8841, 8843, 8844, 8845, 8846, 8847, 8848, 8850, 8851, 8853, 8855, 8856, 8857, 8858, 8859, 8860, 8861, 8862, 8863, 8864, 8865, 8866, 8867, 8868, 8869, 8871, 8872, 8874, 8875, 8876, 8877, 8879, 8880, 8881, 8882, 8883, 8884, 8885, 8886, 8887, 8888, 8889, 8892, 8893, 8894, 8895, 8896, 8898, 8899, 8900, 8901, 8902, 8903, 8904, 8905, 8906, 8910, 8912, 8913, 8914, 8916, 8917, 8918, 8919, 8921, 8922, 8923, 8924, 8925, 8926, 8927, 8928, 8929, 8931, 8932, 8933, 8934, 8935, 8937, 8938, 8940, 8941, 8942, 8943, 8944, 8945, 8946, 8947, 8948, 8951, 8952, 8953, 8954, 8955, 8956, 8957, 8959, 8962, 8964, 8966, 8967, 8968, 8969, 8971, 8972, 8973, 8977, 8978, 8981, 8982, 8984, 8985, 8986, 8987, 8988, 8989, 8990, 8991, 8992, 8994, 8995, 8996, 8997, 8998, 8999, 9000, 9001, 9002, 9003, 9004, 9005, 9006, 9007, 9008, 9011, 9013, 9014, 9015, 9016, 9017, 9018, 9019, 9020, 9021, 9025, 9026, 9029, 9030, 9031, 9032, 9033, 9034, 9035, 9036, 9037, 9038, 9039, 9040, 9042, 9044, 9045, 9046, 9047, 9050, 9051, 9052, 9053, 9054, 9055, 9056, 9057, 9059, 9060, 9061, 9062, 9063, 9064, 9065, 9066, 9067, 9068, 9070, 9072, 9073, 9074, 9075, 9076, 9077, 9079, 9080, 9081, 9082, 9083, 9085, 9086, 9087, 9088, 9089, 9090, 9093, 9095, 9096, 9098, 9099, 9101, 9102, 9103, 9104, 9105, 9106, 9108, 9109, 9112, 9113, 9114, 9115, 9116, 9117, 9118, 9120, 9121, 9122, 9123, 9125, 9127, 9128, 9129, 9130, 9131, 9133, 9135, 9136, 9137, 9138, 9140, 9141, 9142, 9143, 9144, 9145, 9146, 9147, 9149, 9150, 9152, 9153, 9154, 9156, 9157, 9158, 9159, 9161, 9162, 9163, 9164, 9165, 9166, 9168, 9169, 9170, 9171, 9172, 9173, 9174, 9175, 9176, 9177, 9178, 9180, 9182, 9184, 9185, 9186, 9187, 9188, 9189, 9192, 9193, 9194, 9195, 9196, 9198, 9199, 9200, 9201, 9202, 9203, 9204, 9205, 9207, 9208, 9209, 9210, 9211, 9212, 9214, 9215, 9216, 9218, 9219, 9221, 9222, 9223, 9226, 9227, 9228, 9229, 9232, 9233, 9235, 9238, 9239, 9240, 9242, 9243, 9244, 9246, 9247, 9248, 9251, 9254, 9255, 9256, 9257, 9260, 9262, 9263, 9265, 9266, 9267, 9269, 9271, 9272, 9273, 9277, 9278, 9279, 9281, 9283, 9284, 9285, 9286, 9287, 9288, 9290, 9292, 9293, 9294, 9295, 9297, 9298, 9302, 9303, 9304, 9305, 9306, 9307, 9308, 9309, 9310, 9311, 9312, 9314, 9315, 9316, 9317, 9318, 9319, 9320, 9321, 9322, 9324, 9325, 9326, 9327, 9329, 9331, 9332, 9334, 9335, 9336, 9337, 9338, 9339, 9340, 9341, 9342, 9343, 9344, 9345, 9346, 9347, 9348, 9349, 9350, 9352, 9353, 9354, 9355, 9356, 9357, 9358, 9359, 9360, 9361, 9362, 9363, 9364, 9365, 9368, 9370, 9371, 9374, 9376, 9378, 9379, 9381, 9382, 9383, 9384, 9385, 9386, 9387, 9389, 9390, 9391, 9392, 9393, 9394, 9395, 9396, 9398, 9400, 9402, 9403, 9404, 9405, 9406, 9407, 9408, 9409, 9410, 9411, 9413, 9416, 9417, 9418, 9419, 9423, 9425, 9426, 9430, 9432, 9433, 9434, 9435, 9436, 9438, 9439, 9440, 9441, 9442, 9443, 9444, 9445, 9446, 9449, 9450, 9451, 9452, 9453, 9454, 9455, 9457, 9459, 9461, 9463, 9464, 9465, 9467, 9468, 9470, 9472, 9473, 9474, 9475, 9477, 9478, 9479, 9480, 9481, 9482, 9483, 9484, 9485, 9486, 9488, 9489, 9492, 9493, 9494, 9495, 9496, 9498, 9500, 9501, 9504, 9506, 9509, 9510, 9511, 9512, 9513, 9515, 9516, 9517, 9519, 9520, 9522, 9524, 9525, 9526, 9527, 9528, 9530, 9531, 9532, 9533, 9535, 9537, 9539, 9540, 9541, 9542, 9543, 9544, 9545, 9546, 9547, 9550, 9552, 9554, 9555, 9557, 9558, 9559, 9560, 9561, 9562, 9564, 9565, 9567, 9569, 9570, 9571, 9572, 9573, 9574, 9576, 9578, 9579, 9580, 9582, 9583, 9584, 9586, 9587, 9588, 9589, 9591, 9593, 9594, 9595, 9596, 9597, 9599, 9600, 9601, 9602, 9603, 9605, 9609, 9611, 9612, 9613, 9614, 9615, 9616, 9621, 9622, 9623, 9626, 9627, 9628, 9630, 9631, 9632, 9633, 9634, 9635, 9636, 9637, 9638, 9639, 9640, 9641, 9642, 9643, 9644, 9645, 9647, 9649, 9651, 9652, 9653, 9654, 9655, 9656, 9657, 9658, 9659, 9660, 9661, 9662, 9663, 9665, 9666, 9667, 9669, 9670, 9672, 9674, 9675, 9677, 9679, 9680, 9681, 9682, 9683, 9684, 9685, 9686, 9687, 9688, 9689, 9691, 9692, 9693, 9694, 9695, 9696, 9698, 9699, 9700, 9701, 9702, 9704, 9705, 9708, 9710, 9711, 9712, 9714, 9715, 9717, 9719, 9721, 9722, 9723, 9724, 9725, 9726, 9727, 9728, 9729, 9733, 9734, 9737, 9738, 9739, 9740, 9741, 9742, 9743, 9744, 9745, 9746, 9747, 9748, 9749, 9750, 9751, 9752, 9753, 9754, 9755, 9756, 9758, 9759, 9761, 9762, 9763, 9764, 9765, 9766, 9768, 9769, 9771, 9773, 9774, 9775, 9776, 9777, 9780, 9781, 9783, 9785, 9786, 9787, 9789, 9792, 9795, 9797, 9799, 9800, 9801, 9802, 9803, 9804, 9805, 9806, 9807, 9808, 9810, 9812, 9813, 9815, 9816, 9817, 9818, 9819, 9820, 9821, 9822, 9823, 9824, 9825, 9826, 9828, 9830, 9831, 9832, 9833, 9834, 9835, 9836, 9837, 9838, 9839, 9841, 9843, 9844, 9845, 9847, 9849, 9850, 9852, 9853, 9854, 9856, 9857, 9858, 9859, 9860, 9861, 9863, 9865, 9868, 9869, 9870, 9872, 9873, 9875, 9878, 9879, 9880, 9881, 9882, 9884, 9886, 9888, 9889, 9890, 9891, 9892, 9895, 9896, 9897, 9898, 9899, 9900, 9901, 9902, 9903, 9904, 9908, 9909, 9910, 9913, 9914, 9916, 9917, 9918, 9919, 9921, 9925, 9927, 9928, 9929, 9930, 9931, 9934, 9935, 9936, 9937, 9938, 9939, 9940, 9941, 9942, 9943, 9945, 9946, 9947, 9948, 9949, 9950, 9951, 9952, 9953, 9955, 9956, 9958, 9959, 9960, 9961, 9962, 9963, 9964, 9965, 9966, 9967, 9968, 9969, 9971, 9972, 9973, 9974, 9975, 9977, 9978, 9979, 9980, 9981, 9982, 9985, 9986, 9987, 9988, 9991, 9992, 9993, 9994, 9995, 9996, 9998, 9999, 10000, 10002, 10003, 10004, 10005, 10006, 10007, 10008, 10009, 10011, 10012, 10015, 10016, 10017, 10018, 10019, 10020, 10021, 10022, 10023, 10024, 10025, 10026, 10027, 10028, 10030, 10033, 10035, 10036, 10037, 10040, 10042, 10044, 10045, 10046, 10047, 10048, 10050, 10051, 10052, 10053, 10054, 10055, 10056, 10057, 10058, 10059, 10060, 10061, 10062, 10063, 10064, 10065, 10066, 10068, 10069, 10070, 10071, 10072, 10073, 10074, 10075, 10076, 10077, 10078, 10079, 10081, 10084, 10085, 10086, 10088, 10089, 10090, 10091, 10092, 10093, 10096, 10098, 10100, 10102, 10103, 10104, 10106, 10107, 10109, 10110, 10113, 10114, 10115, 10118, 10119, 10120, 10121, 10122, 10123, 10124, 10125, 10126, 10127, 10128, 10130, 10131, 10132, 10133, 10134, 10135, 10136, 10137, 10138, 10139, 10141, 10142, 10143, 10144, 10145, 10146, 10147, 10148, 10152, 10153, 10154, 10155, 10157, 10158, 10159, 10161, 10163, 10164, 10165, 10166, 10167, 10168, 10170, 10172, 10174, 10175, 10177, 10179, 10180, 10181, 10184, 10185, 10186, 10187, 10188, 10189, 10191, 10192, 10193, 10194, 10195, 10199, 10201, 10202, 10203, 10204, 10205, 10207, 10208, 10209, 10210, 10211, 10212, 10213, 10214, 10215, 10217, 10218, 10219, 10222, 10223, 10224, 10225, 10226, 10227, 10228, 10229, 10230, 10231, 10232, 10233, 10234, 10238, 10239, 10242, 10243, 10244, 10245, 10246, 10247, 10248, 10249, 10250, 10251, 10252, 10254, 10256, 10257, 10258, 10261, 10263, 10264, 10265, 10267, 10268, 10269, 10270, 10273, 10274, 10276, 10277, 10278, 10279, 10280, 10281, 10282, 10283, 10284, 10287, 10288, 10290, 10291, 10292, 10293, 10294, 10295, 10296, 10298, 10299, 10300, 10301, 10303, 10305, 10307, 10309, 10311, 10312, 10313, 10314, 10316, 10317, 10318, 10319, 10320, 10321, 10322, 10323, 10324, 10325, 10326, 10328, 10330, 10332, 10334, 10335, 10336, 10337, 10338, 10339, 10340, 10342, 10343, 10345, 10346, 10347, 10348, 10349, 10350, 10351, 10352, 10353, 10354, 10355, 10357, 10358, 10360, 10361, 10362, 10363, 10367, 10368, 10369, 10370, 10371, 10372, 10374, 10375, 10376, 10378, 10379, 10380, 10381, 10382, 10383, 10384, 10386, 10387, 10388, 10389, 10390, 10391, 10392, 10394, 10395, 10396, 10397, 10400, 10401, 10402, 10403, 10405, 10406, 10407, 10408, 10411, 10412, 10415, 10416, 10418, 10419, 10421, 10422, 10424, 10428, 10429, 10430, 10431, 10432, 10433, 10434, 10435, 10436, 10437, 10438, 10439, 10440, 10442, 10445, 10446, 10447, 10448, 10450, 10452, 10453, 10454, 10455, 10456, 10457, 10458, 10459, 10460, 10462, 10463, 10465, 10466, 10468, 10469, 10470, 10471, 10472, 10473, 10474, 10475, 10476, 10479, 10480, 10481, 10482, 10483, 10484, 10485, 10486, 10487, 10488, 10489, 10490, 10491, 10492, 10495, 10496, 10497, 10498, 10499, 10501, 10502, 10503, 10505, 10506, 10507, 10508, 10509, 10511, 10512, 10514, 10516, 10517, 10518, 10519, 10520, 10523, 10524, 10525, 10526, 10527, 10528, 10529, 10531, 10533, 10536, 10537, 10539, 10540, 10541, 10542, 10543, 10544, 10545, 10546, 10547, 10551, 10552, 10554, 10556, 10557, 10558, 10559, 10561, 10563, 10564, 10565, 10566, 10568, 10569, 10570, 10571, 10572, 10573, 10574, 10577, 10580, 10582, 10583, 10585, 10590, 10591, 10592, 10594, 10595, 10596, 10597, 10599, 10600, 10602, 10603, 10604, 10605, 10607, 10608, 10609, 10610, 10611, 10614, 10615, 10616, 10617, 10618, 10619, 10621, 10624, 10626, 10627, 10628, 10630, 10631, 10632, 10634, 10635, 10637, 10638, 10639, 10641, 10643, 10644, 10646, 10647, 10648, 10649, 10650, 10653, 10654, 10655, 10656, 10657, 10658, 10659, 10660, 10663, 10664, 10665, 10668, 10669, 10670, 10673, 10674, 10675, 10676, 10677, 10678, 10679, 10681, 10682, 10683, 10684, 10685, 10687, 10690, 10691, 10693, 10694, 10696, 10697, 10698, 10699, 10700, 10702, 10704, 10705, 10707, 10708, 10710, 10711, 10712, 10713, 10715, 10717, 10718, 10719, 10720, 10721, 10723, 10725, 10728, 10730, 10731, 10733, 10734, 10736, 10737, 10738, 10739, 10742, 10743, 10744, 10745, 10746, 10747, 10748, 10749, 10750, 10751, 10753, 10755, 10756, 10757, 10758, 10760, 10761, 10762, 10763, 10764, 10765, 10767, 10768, 10769, 10770, 10771, 10772, 10773, 10774, 10775, 10776, 10777, 10778, 10779, 10780, 10782, 10783, 10784, 10785, 10786, 10787, 10789, 10790, 10791, 10792, 10793, 10794, 10797, 10798, 10799, 10800, 10803, 10804, 10805, 10806, 10807, 10809, 10810, 10811, 10812, 10815, 10816, 10820, 10822, 10824, 10826, 10827, 10828, 10829, 10831, 10832, 10833, 10834, 10835, 10837, 10838, 10840, 10841, 10842, 10843, 10844, 10845, 10846, 10848, 10850, 10851, 10852, 10854, 10855, 10857, 10858, 10859, 10860, 10861, 10862, 10863, 10864, 10865, 10866, 10867, 10868, 10869, 10870, 10872, 10874, 10876, 10877, 10878, 10879, 10880, 10882, 10883, 10885, 10888, 10889, 10890, 10891, 10892, 10893, 10896, 10897, 10898, 10899, 10900, 10901, 10902, 10904, 10905, 10906, 10907, 10909, 10910, 10911, 10912, 10913, 10915, 10916, 10919, 10920, 10921, 10922, 10924, 10925, 10926, 10927, 10928, 10930, 10932, 10933, 10934, 10935, 10937, 10939, 10940, 10941, 10943, 10945, 10947, 10948, 10949, 10950, 10951, 10952, 10953, 10954, 10956, 10958, 10959, 10960, 10961, 10962, 10963, 10964, 10966, 10968, 10969, 10970, 10971, 10972, 10973, 10974, 10978, 10982, 10983, 10987, 10990, 10992, 10993, 10996, 10997, 10999, 11000, 11002, 11003, 11004, 11007, 11008, 11009, 11010, 11011, 11012, 11014, 11015, 11016, 11017, 11019, 11020, 11021, 11022, 11023, 11024, 11028, 11029, 11031, 11032, 11033, 11035, 11036, 11039, 11040, 11041, 11042, 11043, 11044, 11045, 11046, 11047, 11048, 11050, 11051, 11052, 11054, 11055, 11056, 11057, 11058, 11059, 11061, 11062, 11063, 11064, 11065, 11066, 11067, 11069, 11070, 11071, 11072, 11077, 11079, 11082, 11083, 11084, 11085, 11086, 11088, 11089, 11090, 11091, 11093, 11094, 11095, 11096, 11097, 11098, 11099, 11100, 11101, 11102, 11103, 11104, 11106, 11107, 11108, 11109, 11110, 11111, 11112, 11113, 11114, 11115, 11117, 11118, 11119, 11120, 11121, 11122, 11123, 11126, 11127, 11128, 11129, 11130, 11131, 11132, 11133, 11134, 11136, 11138, 11139, 11140, 11141, 11143, 11144, 11145, 11147, 11148, 11149, 11150, 11151, 11152, 11153, 11154, 11155, 11156, 11157, 11158, 11160, 11161, 11164, 11165, 11167, 11168, 11169, 11170, 11172, 11173, 11174, 11175, 11176, 11177, 11180, 11181, 11183, 11185, 11186, 11187, 11188, 11190, 11191, 11192, 11193, 11194, 11195, 11197, 11198, 11201, 11204, 11205, 11206, 11207, 11208, 11210, 11211, 11212, 11213, 11214, 11216, 11217, 11218, 11219, 11220, 11222, 11223, 11224, 11226, 11227, 11231, 11233, 11235, 11236, 11237, 11238, 11240, 11241, 11242, 11243, 11245, 11247, 11248, 11250, 11254, 11255, 11256, 11257, 11258, 11259, 11260, 11261, 11263, 11264, 11265, 11267, 11269, 11270, 11272, 11273, 11274, 11278, 11279, 11280, 11282, 11283, 11284, 11288, 11289, 11290, 11292, 11293, 11294, 11295, 11296, 11297, 11298, 11299, 11300, 11301, 11302, 11303, 11305, 11306, 11308, 11310, 11311, 11312, 11314, 11315, 11316, 11317, 11318, 11319, 11320, 11321, 11322, 11323, 11324, 11326, 11327, 11331, 11332, 11333, 11335, 11337, 11338, 11339, 11341, 11343, 11344, 11345, 11347, 11349, 11350, 11351, 11354, 11357, 11360, 11361, 11362, 11364, 11365, 11367, 11368, 11369, 11370, 11372, 11375, 11376, 11377, 11379, 11380, 11381, 11382, 11383, 11385, 11388, 11390, 11392, 11393, 11394, 11396, 11398, 11399, 11402, 11404, 11405, 11406, 11407, 11408, 11411, 11412, 11415, 11416, 11417, 11418, 11421, 11422, 11423, 11425, 11426, 11427, 11428, 11429, 11430, 11431, 11433, 11434, 11435, 11436, 11437, 11438, 11439, 11440, 11441, 11442, 11446, 11447, 11448, 11449, 11450, 11451, 11452, 11453, 11455, 11456, 11458, 11459, 11460, 11462, 11463, 11464, 11465, 11466, 11467, 11468, 11469, 11471, 11472, 11473, 11476, 11478, 11479, 11482, 11483, 11484, 11486, 11487, 11489, 11490, 11491, 11492, 11493, 11494, 11495, 11496, 11498, 11499, 11500, 11501, 11504, 11508, 11510, 11511, 11512, 11513, 11514, 11515, 11516, 11517, 11518, 11519, 11520, 11521, 11524, 11525, 11527, 11529, 11530, 11532, 11533, 11534, 11536, 11537, 11538, 11541, 11542, 11543, 11545, 11546, 11547, 11549, 11550, 11551, 11552, 11553, 11554, 11555, 11556, 11557, 11559, 11560, 11561, 11562, 11563, 11564, 11567, 11568, 11570, 11571, 11572, 11573, 11574, 11575, 11576, 11577, 11578, 11579, 11581, 11582, 11583, 11584, 11585, 11586, 11588, 11589, 11590, 11591, 11593, 11594, 11595, 11596, 11599, 11600, 11602, 11603, 11604, 11605, 11606, 11607, 11610, 11611, 11613, 11614, 11616, 11617, 11618, 11621, 11622, 11624, 11626, 11627, 11628, 11630, 11632, 11635, 11636, 11637, 11638, 11639, 11640, 11642, 11643, 11644, 11646, 11647, 11649, 11650, 11651, 11652, 11653, 11654, 11655, 11656, 11658, 11659, 11660, 11661, 11662, 11663, 11665, 11667, 11668, 11669, 11671, 11672, 11673, 11674, 11675, 11676, 11677, 11679, 11680, 11682, 11683, 11684, 11685, 11687, 11688, 11690, 11691, 11692, 11693, 11695, 11696, 11697, 11698, 11700, 11702, 11703, 11704, 11705, 11706, 11707, 11708, 11709, 11710, 11712, 11715, 11716, 11718, 11719, 11720, 11721, 11722, 11723, 11724, 11725, 11726, 11728, 11729, 11730, 11732, 11733, 11734, 11735, 11736, 11737, 11738, 11739, 11740, 11742, 11745, 11746, 11747, 11749, 11750, 11752, 11755, 11756, 11758, 11759, 11760, 11761, 11762, 11763, 11764, 11765, 11766, 11767, 11769, 11770, 11773, 11774, 11777, 11778, 11780, 11782, 11783, 11784, 11785, 11788, 11790, 11791, 11792, 11794, 11795, 11796, 11797, 11798, 11799, 11801, 11803, 11805, 11806, 11807, 11809, 11812, 11813, 11814, 11815, 11816, 11817, 11820, 11821, 11822, 11823, 11826, 11827, 11828, 11829, 11830, 11831, 11833, 11835, 11836, 11839, 11840, 11841, 11842, 11844, 11845, 11846, 11847, 11848, 11849, 11850, 11851, 11852, 11853, 11854, 11856, 11857, 11858, 11859, 11862, 11864, 11865, 11866, 11868, 11869, 11871, 11873, 11876, 11877, 11879, 11880, 11881, 11882, 11884, 11885, 11888, 11889, 11893, 11894, 11895, 11897, 11898, 11899, 11902, 11903, 11904, 11905, 11906, 11907, 11908, 11909, 11910, 11911, 11912, 11913, 11915, 11917, 11918, 11919, 11920, 11921, 11922, 11923, 11924, 11925, 11927, 11928, 11930, 11931, 11932, 11933, 11934, 11935, 11936, 11937, 11938, 11939, 11940, 11941, 11942, 11943, 11944, 11945, 11947, 11948, 11949, 11950, 11951, 11957, 11958, 11959, 11960, 11961, 11962, 11963, 11964, 11965, 11967, 11968, 11969, 11974, 11975, 11977, 11979, 11980, 11981, 11982, 11983, 11984, 11986, 11987, 11988, 11989, 11990, 11991, 11992, 11995, 11996, 11997, 11998, 11999, 12000]\n",
            "0\n",
            "100\n",
            "200\n",
            "300\n",
            "400\n",
            "500\n",
            "600\n",
            "700\n",
            "800\n",
            "900\n",
            "1000\n",
            "1100\n",
            "1200\n",
            "1300\n",
            "1400\n",
            "1500\n",
            "1600\n",
            "1700\n",
            "1800\n",
            "1900\n",
            "2000\n",
            "2100\n",
            "2200\n",
            "2300\n",
            "2400\n",
            "2500\n",
            "2600\n",
            "2700\n",
            "2800\n",
            "2900\n",
            "3000\n",
            "3100\n",
            "3200\n",
            "3300\n",
            "3400\n",
            "3500\n",
            "3600\n",
            "3700\n",
            "3800\n",
            "3900\n",
            "4000\n",
            "4100\n",
            "4200\n",
            "4300\n",
            "4400\n",
            "4500\n",
            "4600\n",
            "4700\n",
            "4800\n",
            "4900\n",
            "5000\n",
            "5100\n",
            "5200\n",
            "5300\n",
            "5400\n",
            "5500\n",
            "5600\n",
            "5700\n",
            "5800\n",
            "5900\n",
            "6000\n",
            "6100\n",
            "6200\n",
            "6300\n",
            "6400\n",
            "6500\n",
            "6600\n",
            "6700\n",
            "6800\n",
            "6900\n",
            "7000\n",
            "7100\n",
            "7200\n",
            "7300\n",
            "7400\n",
            "7500\n",
            "7600\n",
            "7700\n",
            "7800\n",
            "7900\n",
            "8000\n",
            "8100\n",
            "8200\n",
            "8300\n",
            "8400\n",
            "8500\n",
            "8600\n",
            "8700\n",
            "8800\n"
          ]
        }
      ],
      "source": [
        "#I tried to do this without using any for loops.... \n",
        "#   - I still think I can but for parsimony I decided just to use a single for loop\n",
        "# What I got is a label dictionary for user_id and adopted_engagement_index which,\n",
        "# I define as the number of logins of user attempts in a week that are,\n",
        "#    - seperate daily events (greater than 3 days).\n",
        "\n",
        "# Label dictionary\n",
        "adopted_user_dict={}\n",
        "#number of year/week units\n",
        "weeks=takehome_user_engagement.year_week\n",
        "#individual user ids\n",
        "user_ids=list(set(takehome_user_engagement['user_id']))\n",
        "#loop over user ids\n",
        "print(user_ids)\n",
        "for i in range(len(user_ids)):\n",
        "    user_id=user_ids[i]\n",
        "    if(i%100==0):\n",
        "      print(i)\n",
        "    #dataframe for specific user that has duplicate records by week\n",
        "    reduced_df=takehome_user_engagement[(takehome_user_engagement['user_id']==user_id)&(weeks.isin(weeks[weeks.duplicated()]))]\n",
        "    #count the number of duplicate 'day' records of weeks if greater than 2 keep\n",
        "    week_counts=reduced_df.year_week.value_counts()[reduced_df.year_week.value_counts()>2]\n",
        "    three_logins=reduced_df[reduced_df.year_week.isin(list(week_counts.index))]\n",
        "    #remove duplicates of 3 day events within week\n",
        "    three_logins=three_logins[~three_logins.duplicated()]\n",
        "    #code user id and number of 3 day events\n",
        "    adopted_user_dict[str(user_id)]=len(three_logins)"
      ]
    },
    {
      "cell_type": "code",
      "execution_count": null,
      "metadata": {
        "id": "MRqYboFdrwXZ"
      },
      "outputs": [],
      "source": [
        "#apply the label dictionary to user ids coded to the column (engagement_index)\n",
        "takehome_user_engagement['engagement_index']=takehome_user_engagement['user_id'].apply(lambda x: adopted_user_dict[str(x)])\n",
        "#Code engagement_index as boolean values, which will be the adopted_user records\n",
        "takehome_user_engagement['adopted_user']=0\n",
        "takehome_user_engagement['adopted_user'][takehome_user_engagement['engagement_index']>0]=1"
      ]
    },
    {
      "cell_type": "markdown",
      "metadata": {
        "id": "fAVrfpSmrwXb"
      },
      "source": [
        "*After coding for 'adopted_users' I am left with 1445 users who have logged in on 3 seperate days within a seven day period.*"
      ]
    },
    {
      "cell_type": "code",
      "execution_count": null,
      "metadata": {
        "id": "fO-rAcekrwXd",
        "outputId": "f046c40e-a4d4-4c14-8171-3a95d1ebe405",
        "colab": {
          "base_uri": "https://localhost:8080/"
        }
      },
      "outputs": [
        {
          "output_type": "stream",
          "name": "stdout",
          "text": [
            "Number of adopted users: 1445\n"
          ]
        }
      ],
      "source": [
        "adopted_count=takehome_user_engagement[['user_id','adopted_user']][takehome_user_engagement['adopted_user']==1].groupby('user_id').count()\n",
        "print('Number of adopted users:',len(adopted_count))"
      ]
    },
    {
      "cell_type": "code",
      "execution_count": null,
      "metadata": {
        "id": "Qtl97uY3rwXf"
      },
      "outputs": [],
      "source": [
        "#Narrow down the dataset for merging\n",
        "adopted=takehome_user_engagement[['user_id','adopted_user']]\n",
        "#Merge the adopted user info to users dataframe\n",
        "adopted_users = pd.merge(takehome_users, adopted, on='user_id', how='outer')"
      ]
    },
    {
      "cell_type": "markdown",
      "metadata": {
        "id": "QrMSVBx3rwXg"
      },
      "source": [
        "*After merging the 'adopted_users' to the larger 'users' dataset I will modify the time units to useful units, once again I am not certain which time units I will need but is a thing I typically do so I have options for different scales of time.*"
      ]
    },
    {
      "cell_type": "code",
      "execution_count": null,
      "metadata": {
        "id": "guvMXFserwXh"
      },
      "outputs": [],
      "source": [
        "creation_year, creation_month, creation_day=get_date_int(adopted_users, 'creation_time')\n",
        "last_session_year, last_session_month, last_session_day=get_date_int(adopted_users, 'last_session_creation_time')\n",
        "adopted_users['creation_year'],adopted_users['creation_month'],adopted_users['creation_day']=creation_year, creation_month, creation_day\n",
        "adopted_users['last_session_year'],adopted_users['last_session_month'],adopted_users['last_session_day']=last_session_year, last_session_month, last_session_day\n",
        "adopted_users.drop(['creation_time', 'last_session_creation_time', 'user_id'], axis=1, inplace=True)"
      ]
    },
    {
      "cell_type": "markdown",
      "metadata": {
        "id": "JgpMFdPArwXi"
      },
      "source": [
        "#### Model Prep"
      ]
    },
    {
      "cell_type": "markdown",
      "metadata": {
        "id": "2sh6y6w2rwXj"
      },
      "source": [
        "*Fill in the missing values with something (zero) I think if I had more time I would spend it looking at what would be the best imputation method (mode,median,mean, or zero fill)*"
      ]
    },
    {
      "cell_type": "code",
      "execution_count": null,
      "metadata": {
        "id": "CyB5_SHnrwXl"
      },
      "outputs": [],
      "source": [
        "adopted_users.last_session_day.fillna(0, inplace=True)\n",
        "adopted_users.last_session_month.fillna(0, inplace=True)\n",
        "adopted_users.last_session_year.fillna(0, inplace=True)"
      ]
    },
    {
      "cell_type": "markdown",
      "metadata": {
        "id": "rwh9s2UwrwXn"
      },
      "source": [
        "*Label encoder for the string values*"
      ]
    },
    {
      "cell_type": "code",
      "execution_count": null,
      "metadata": {
        "id": "Yox3wyz_rwXq"
      },
      "outputs": [],
      "source": [
        "from sklearn import preprocessing \n",
        "from sklearn.preprocessing import LabelEncoder\n",
        "le = preprocessing.LabelEncoder()\n",
        "adopted_users['creation_source']=le.fit_transform(adopted_users['creation_source'])"
      ]
    },
    {
      "cell_type": "markdown",
      "metadata": {
        "id": "oZMxope2rwXt"
      },
      "source": [
        "*Create binary for the invited users *"
      ]
    },
    {
      "cell_type": "code",
      "execution_count": null,
      "metadata": {
        "id": "OMnQ5C4prwXu"
      },
      "outputs": [],
      "source": [
        "adopted_users['invited'] = np.where(adopted_users['invited_by_user_id'].isnull(), 1, 0)\n",
        "adopted_users.drop('invited_by_user_id', axis=1, inplace=True)\n",
        "#Fill in the missings\n",
        "adopted_users=adopted_users.fillna(0)\n",
        "#Create column labels for output\n",
        "col_names=list(pd.Series(adopted_users.columns)[pd.Series(adopted_users.columns)!='adopted_user'])\n",
        "#Code as arrays\n",
        "X=adopted_users[list(pd.Series(adopted_users.columns)[pd.Series(adopted_users.columns)!='adopted_user'])].values\n",
        "y=adopted_users['adopted_user'].values"
      ]
    },
    {
      "cell_type": "markdown",
      "metadata": {
        "id": "4TzzKiqFrwXv"
      },
      "source": [
        "Train/Test Split"
      ]
    },
    {
      "cell_type": "code",
      "execution_count": null,
      "metadata": {
        "id": "cI8GC17wrwXw",
        "outputId": "8010bcb4-d82b-4fc5-f972-1e09bc8f7906",
        "colab": {
          "base_uri": "https://localhost:8080/"
        }
      },
      "outputs": [
        {
          "output_type": "stream",
          "name": "stdout",
          "text": [
            "Train size: 69.99962102191441\n",
            "Train observations: 147765\n",
            "Test size: 30.00037897808559\n",
            "Test observations: 63329\n"
          ]
        }
      ],
      "source": [
        "from sklearn.model_selection import train_test_split\n",
        "X_train, X_test, y_train, y_test = train_test_split(X,y,test_size = 0.3,random_state=3)\n",
        "print('Train size:',(len(X_train)/len(X))*100)\n",
        "print('Train observations:',(len(X_train)))\n",
        "print('Test size:',(len(X_test)/len(X))*100)\n",
        "print('Test observations:',(len(X_test)))\n"
      ]
    },
    {
      "cell_type": "markdown",
      "metadata": {
        "id": "SYfI_lfzrwXz"
      },
      "source": [
        " Fit Random Forest Model\n",
        " ------"
      ]
    },
    {
      "cell_type": "code",
      "execution_count": null,
      "metadata": {
        "id": "A4jiFJuarwX0",
        "outputId": "e35a92f6-52e4-4dea-d891-7a08f13d31ca",
        "colab": {
          "base_uri": "https://localhost:8080/",
          "height": 713
        }
      },
      "outputs": [
        {
          "output_type": "stream",
          "name": "stdout",
          "text": [
            "Accuracy: 0.9999255574730146 \n",
            "\n",
            "Feature ranking:\n"
          ]
        },
        {
          "output_type": "display_data",
          "data": {
            "text/plain": [
              "<Figure size 432x288 with 1 Axes>"
            ],
            "image/png": "[encoded data removed]"
          },
          "metadata": {}
        },
        {
          "output_type": "execute_result",
          "data": {
            "text/plain": [
              "                      features  importance\n",
              "3                       org_id    0.293394\n",
              "6                 creation_day    0.204772\n",
              "4                creation_year    0.170147\n",
              "5               creation_month    0.133685\n",
              "8           last_session_month    0.054419\n",
              "0              creation_source    0.038687\n",
              "9             last_session_day    0.036800\n",
              "7            last_session_year    0.030895\n",
              "1     opted_in_to_mailing_list    0.016536\n",
              "2   enabled_for_marketing_drip    0.013290\n",
              "10                     invited    0.007376"
            ],
            "text/html": [
              "\n",
              "  <div id=\"df-64bf2d2b-36ea-4b78-96bd-1859e7c6bdb1\">\n",
              "    <div class=\"colab-df-container\">\n",
              "      <div>\n",
              "<style scoped>\n",
              "    .dataframe tbody tr th:only-of-type {\n",
              "        vertical-align: middle;\n",
              "    }\n",
              "\n",
              "    .dataframe tbody tr th {\n",
              "        vertical-align: top;\n",
              "    }\n",
              "\n",
              "    .dataframe thead th {\n",
              "        text-align: right;\n",
              "    }\n",
              "</style>\n",
              "<table border=\"1\" class=\"dataframe\">\n",
              "  <thead>\n",
              "    <tr style=\"text-align: right;\">\n",
              "      <th></th>\n",
              "      <th>features</th>\n",
              "      <th>importance</th>\n",
              "    </tr>\n",
              "  </thead>\n",
              "  <tbody>\n",
              "    <tr>\n",
              "      <th>3</th>\n",
              "      <td>org_id</td>\n",
              "      <td>0.293394</td>\n",
              "    </tr>\n",
              "    <tr>\n",
              "      <th>6</th>\n",
              "      <td>creation_day</td>\n",
              "      <td>0.204772</td>\n",
              "    </tr>\n",
              "    <tr>\n",
              "      <th>4</th>\n",
              "      <td>creation_year</td>\n",
              "      <td>0.170147</td>\n",
              "    </tr>\n",
              "    <tr>\n",
              "      <th>5</th>\n",
              "      <td>creation_month</td>\n",
              "      <td>0.133685</td>\n",
              "    </tr>\n",
              "    <tr>\n",
              "      <th>8</th>\n",
              "      <td>last_session_month</td>\n",
              "      <td>0.054419</td>\n",
              "    </tr>\n",
              "    <tr>\n",
              "      <th>0</th>\n",
              "      <td>creation_source</td>\n",
              "      <td>0.038687</td>\n",
              "    </tr>\n",
              "    <tr>\n",
              "      <th>9</th>\n",
              "      <td>last_session_day</td>\n",
              "      <td>0.036800</td>\n",
              "    </tr>\n",
              "    <tr>\n",
              "      <th>7</th>\n",
              "      <td>last_session_year</td>\n",
              "      <td>0.030895</td>\n",
              "    </tr>\n",
              "    <tr>\n",
              "      <th>1</th>\n",
              "      <td>opted_in_to_mailing_list</td>\n",
              "      <td>0.016536</td>\n",
              "    </tr>\n",
              "    <tr>\n",
              "      <th>2</th>\n",
              "      <td>enabled_for_marketing_drip</td>\n",
              "      <td>0.013290</td>\n",
              "    </tr>\n",
              "    <tr>\n",
              "      <th>10</th>\n",
              "      <td>invited</td>\n",
              "      <td>0.007376</td>\n",
              "    </tr>\n",
              "  </tbody>\n",
              "</table>\n",
              "</div>\n",
              "      <button class=\"colab-df-convert\" onclick=\"convertToInteractive('df-64bf2d2b-36ea-4b78-96bd-1859e7c6bdb1')\"\n",
              "              title=\"Convert this dataframe to an interactive table.\"\n",
              "              style=\"display:none;\">\n",
              "        \n",
              "  <svg xmlns=\"http://www.w3.org/2000/svg\" height=\"24px\"viewBox=\"0 0 24 24\"\n",
              "       width=\"24px\">\n",
              "    <path d=\"M0 0h24v24H0V0z\" fill=\"none\"/>\n",
              "    <path d=\"M18.56 5.44l.94 2.06.94-2.06 2.06-.94-2.06-.94-.94-2.06-.94 2.06-2.06.94zm-11 1L8.5 8.5l.94-2.06 2.06-.94-2.06-.94L8.5 2.5l-.94 2.06-2.06.94zm10 10l.94 2.06.94-2.06 2.06-.94-2.06-.94-.94-2.06-.94 2.06-2.06.94z\"/><path d=\"M17.41 7.96l-1.37-1.37c-.4-.4-.92-.59-1.43-.59-.52 0-1.04.2-1.43.59L10.3 9.45l-7.72 7.72c-.78.78-.78 2.05 0 2.83L4 21.41c.39.39.9.59 1.41.59.51 0 1.02-.2 1.41-.59l7.78-7.78 2.81-2.81c.8-.78.8-2.07 0-2.86zM5.41 20L4 18.59l7.72-7.72 1.47 1.35L5.41 20z\"/>\n",
              "  </svg>\n",
              "      </button>\n",
              "      \n",
              "  <style>\n",
              "    .colab-df-container {\n",
              "      display:flex;\n",
              "      flex-wrap:wrap;\n",
              "      gap: 12px;\n",
              "    }\n",
              "\n",
              "    .colab-df-convert {\n",
              "      background-color: #E8F0FE;\n",
              "      border: none;\n",
              "      border-radius: 50%;\n",
              "      cursor: pointer;\n",
              "      display: none;\n",
              "      fill: #1967D2;\n",
              "      height: 32px;\n",
              "      padding: 0 0 0 0;\n",
              "      width: 32px;\n",
              "    }\n",
              "\n",
              "    .colab-df-convert:hover {\n",
              "      background-color: #E2EBFA;\n",
              "      box-shadow: 0px 1px 2px rgba(60, 64, 67, 0.3), 0px 1px 3px 1px rgba(60, 64, 67, 0.15);\n",
              "      fill: #174EA6;\n",
              "    }\n",
              "\n",
              "    [theme=dark] .colab-df-convert {\n",
              "      background-color: #3B4455;\n",
              "      fill: #D2E3FC;\n",
              "    }\n",
              "\n",
              "    [theme=dark] .colab-df-convert:hover {\n",
              "      background-color: #434B5C;\n",
              "      box-shadow: 0px 1px 3px 1px rgba(0, 0, 0, 0.15);\n",
              "      filter: drop-shadow(0px 1px 2px rgba(0, 0, 0, 0.3));\n",
              "      fill: #FFFFFF;\n",
              "    }\n",
              "  </style>\n",
              "\n",
              "      <script>\n",
              "        const buttonEl =\n",
              "          document.querySelector('#df-64bf2d2b-36ea-4b78-96bd-1859e7c6bdb1 button.colab-df-convert');\n",
              "        buttonEl.style.display =\n",
              "          google.colab.kernel.accessAllowed ? 'block' : 'none';\n",
              "\n",
              "        async function convertToInteractive(key) {\n",
              "          const element = document.querySelector('#df-64bf2d2b-36ea-4b78-96bd-1859e7c6bdb1');\n",
              "          const dataTable =\n",
              "            await google.colab.kernel.invokeFunction('convertToInteractive',\n",
              "                                                     [key], {});\n",
              "          if (!dataTable) return;\n",
              "\n",
              "          const docLinkHtml = 'Like what you see? Visit the ' +\n",
              "            '<a target=\"_blank\" href=https://colab.research.google.com/notebooks/data_table.ipynb>data table notebook</a>'\n",
              "            + ' to learn more about interactive tables.';\n",
              "          element.innerHTML = '';\n",
              "          dataTable['output_type'] = 'display_data';\n",
              "          await google.colab.output.renderOutput(dataTable, element);\n",
              "          const docLink = document.createElement('div');\n",
              "          docLink.innerHTML = docLinkHtml;\n",
              "          element.appendChild(docLink);\n",
              "        }\n",
              "      </script>\n",
              "    </div>\n",
              "  </div>\n",
              "  "
            ]
          },
          "metadata": {},
          "execution_count": 27
        }
      ],
      "source": [
        "from sklearn.decomposition import PCA\n",
        "from sklearn.metrics import accuracy_score, roc_auc_score, make_scorer\n",
        "from sklearn.model_selection import train_test_split, StratifiedKFold, GridSearchCV, cross_val_score\n",
        "from sklearn.ensemble import RandomForestClassifier\n",
        "\n",
        "clf = RandomForestClassifier(n_estimators=20,random_state=0,criterion='gini', class_weight='balanced')\n",
        "\n",
        "clf.fit(X_train, y_train.ravel())\n",
        "Accuracy=clf.score(X_train, y_train.ravel())\n",
        "print('Accuracy:',Accuracy,'\\n')\n",
        "\n",
        "importFeature = clf.feature_importances_\n",
        "feature_importances=pd.DataFrame([importFeature])\n",
        "\n",
        "std = np.std([tree.feature_importances_ for tree in clf.estimators_],axis=0)\n",
        "indices = np.argsort(importFeature)[::-1]\n",
        "\n",
        "# Print the feature ranking\n",
        "print(\"Feature ranking:\")\n",
        "\n",
        "# Plot the feature importances of the forest\n",
        "plt.figure()\n",
        "plt.title(\"Feature importances\")\n",
        "plt.bar(range(X.shape[1]), importFeature[indices],color=\"r\", yerr=std[indices], align=\"center\")\n",
        "plt.xticks(range(X.shape[1]), indices)\n",
        "plt.xlim([-1, X.shape[1]])\n",
        "plt.show()\n",
        "\n",
        "feature_importances=pd.DataFrame(pd.Series(col_names)[indices])\n",
        "feature_importances['importance']=np.sort(importFeature)[::-1]\n",
        "feature_importances.columns=['features','importance']\n",
        "feature_importances"
      ]
    },
    {
      "cell_type": "markdown",
      "metadata": {
        "id": "FzYmQ66_rwX1"
      },
      "source": [
        "**Explanation:**"
      ]
    },
    {
      "cell_type": "markdown",
      "metadata": {
        "id": "dHi38vsJrwX2"
      },
      "source": [
        "Although I got an accuracy of 99% I believe the model is falacious to a degree since it is seperating the data too well, either because the model is overfitting, or because the data is improperly prepared. Regardless of the reasoning we can see the most important features for predicting the 'Adopted Users' in the dataset to be the group of users assigned the organization id (org_id), the time the id was created, and the last login time. This means that users from particular cohorts are more likely to login more frequently than others for som unspecified reason. I think the data needs more features that describe user details in order to get a proper model for describing user adoption."
      ]
    },
    {
      "cell_type": "code",
      "execution_count": null,
      "metadata": {
        "id": "PEe7X1V8rwX3"
      },
      "outputs": [],
      "source": []
    }
  ],
  "metadata": {
    "kernelspec": {
      "display_name": "Python 3",
      "language": "python",
      "name": "python3"
    },
    "language_info": {
      "codemirror_mode": {
        "name": "ipython",
        "version": 3
      },
      "file_extension": ".py",
      "mimetype": "text/x-python",
      "name": "python",
      "nbconvert_exporter": "python",
      "pygments_lexer": "ipython3",
      "version": "3.6.5"
    },
    "colab": {
      "name": "Assignment_3.ipynb",
      "provenance": [],
      "include_colab_link": true
    }
  },
  "nbformat": 4,
  "nbformat_minor": 0
}